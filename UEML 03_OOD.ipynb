{
  "cells": [
    {
      "cell_type": "code",
      "execution_count": null,
      "metadata": {
        "colab": {
          "base_uri": "https://localhost:8080/"
        },
        "id": "jcIg7h_YIUV4",
        "outputId": "a63536d2-649a-46f5-9999-deabd4ee44d0"
      },
      "outputs": [
        {
          "output_type": "stream",
          "name": "stdout",
          "text": [
            "Collecting git+https://github.com/mvaldenegro/keras-uncertainty\n",
            "  Cloning https://github.com/mvaldenegro/keras-uncertainty to /tmp/pip-req-build-5y2abmcd\n",
            "  Running command git clone --filter=blob:none --quiet https://github.com/mvaldenegro/keras-uncertainty /tmp/pip-req-build-5y2abmcd\n",
            "  Resolved https://github.com/mvaldenegro/keras-uncertainty to commit 42f50a36c70003b16b7f343002766708ad2a289a\n",
            "  Preparing metadata (setup.py) ... \u001b[?25l\u001b[?25hdone\n",
            "Requirement already satisfied: keras>=2.2.0 in /usr/local/lib/python3.10/dist-packages (from Keras-Uncertainty==0.0.1) (2.15.0)\n",
            "Requirement already satisfied: numpy in /usr/local/lib/python3.10/dist-packages (from Keras-Uncertainty==0.0.1) (1.25.2)\n",
            "Requirement already satisfied: tqdm in /usr/local/lib/python3.10/dist-packages (from Keras-Uncertainty==0.0.1) (4.66.1)\n",
            "Requirement already satisfied: scipy in /usr/local/lib/python3.10/dist-packages (from Keras-Uncertainty==0.0.1) (1.11.4)\n",
            "Building wheels for collected packages: Keras-Uncertainty\n",
            "  Building wheel for Keras-Uncertainty (setup.py) ... \u001b[?25l\u001b[?25hdone\n",
            "  Created wheel for Keras-Uncertainty: filename=Keras_Uncertainty-0.0.1-py3-none-any.whl size=37767 sha256=7662b09efcd003a2b07d85edeebc01ab01ea1c2ba60925b3e2a38b2386ef463b\n",
            "  Stored in directory: /tmp/pip-ephem-wheel-cache-t5kfw7ut/wheels/0f/e9/fe/f6021c41f51978e09980019aa4b827d65ad4d3eca0c85be79a\n",
            "Successfully built Keras-Uncertainty\n",
            "Installing collected packages: Keras-Uncertainty\n",
            "Successfully installed Keras-Uncertainty-0.0.1\n"
          ]
        }
      ],
      "source": [
        "!pip install git+https://github.com/mvaldenegro/keras-uncertainty\n",
        "# !git clone https://github.com/mvaldenegro/UncertaintyML-course-ESSAI-labs"
      ]
    },
    {
      "cell_type": "code",
      "execution_count": null,
      "metadata": {
        "id": "SPLrhhUywK0Q"
      },
      "outputs": [],
      "source": [
        "import keras\n",
        "from keras import backend as K\n",
        "import tensorflow as tf\n",
        "import tensorflow_datasets as tfds\n",
        "import math\n",
        "\n",
        "from matplotlib import pyplot as plt\n",
        "import numpy as np\n",
        "from sklearn import metrics as M\n",
        "import pandas as pd\n",
        "# from google.colab import files\n",
        "\n",
        "import keras_uncertainty as ku\n",
        "import requests\n",
        "\n"
      ]
    },
    {
      "cell_type": "markdown",
      "metadata": {
        "id": "wiQuQvn8wSgn"
      },
      "source": [
        "## Out-of-Distribution (OOD) Detection\n",
        "\n",
        "ML models are trained on finite datasets which can encompass a finite variability of data.\n",
        "Many of these models (especially NNs) are generally trained to produce highly-confident predictions even when presented with data which lies outside of the training distribution.\n",
        "\n",
        "When referencing to NNs for image classification (e.g., cats vs dogs) we might have several situations when a well-trained model might fail:\n",
        "* a model is presented with an image of a cat which is very different From the other cat images in the dataset (**unknown knowns**---the image comes from a known class, but the training dataset is not comprehensive enough to encompass for the sufficient variability of the data within this class).\n",
        "* a model is presented with an image of a bird (**unkwnown unknows**---the image comes from a category which is **external** to the ones it was trained to recognize, but the model is not aware of the existence of other categories besides cat and dog).\n",
        "\n",
        "OOD detection refers to the task of identifying whether some data do not overlap with the training distribution.\n",
        "By adding some formalization, we call $\\mathcal{X}$ the training distribution.\n",
        "Let us call $\\mathcal{U}$ the _universe_ distribution of the data type of the input of our model.\n",
        "If our NN takes in images of size $h\\times w$, we might think $\\mathcal{U}$ as encompassing all possible images, i.e., all combinations of pixels in the range $[0-255]$.\n",
        "The idea of OOD is to identify whether a test sample $x^\\star$ comes from ${\\mathcal{X}}$ or $\\mathcal{U}\\setminus{\\mathcal{X}}$.\n"
      ]
    },
    {
      "cell_type": "markdown",
      "metadata": {
        "id": "JB-We9-w3DI7"
      },
      "source": [
        "### A practical example of OOD failure with NNs\n",
        "\n",
        "In the next code cells, we will be training a (frequentist) NN on MNIST and showcase a range of failures on some unknown unknowns and known unknowns."
      ]
    },
    {
      "cell_type": "code",
      "execution_count": null,
      "metadata": {
        "colab": {
          "base_uri": "https://localhost:8080/"
        },
        "id": "-LlU0GnHwRZp",
        "outputId": "5bcebd7b-e37a-457a-82f2-f25fb551b782"
      },
      "outputs": [
        {
          "output_type": "stream",
          "name": "stdout",
          "text": [
            "Model: \"sequential_5\"\n",
            "_________________________________________________________________\n",
            " Layer (type)                Output Shape              Param #   \n",
            "=================================================================\n",
            " flatten_5 (Flatten)         (None, 784)               0         \n",
            "                                                                 \n",
            " dense_15 (Dense)            (None, 16)                12560     \n",
            "                                                                 \n",
            " dense_16 (Dense)            (None, 16)                272       \n",
            "                                                                 \n",
            " dense_17 (Dense)            (None, 10)                170       \n",
            "                                                                 \n",
            " activation_5 (Activation)   (None, 10)                0         \n",
            "                                                                 \n",
            "=================================================================\n",
            "Total params: 13002 (50.79 KB)\n",
            "Trainable params: 13002 (50.79 KB)\n",
            "Non-trainable params: 0 (0.00 Byte)\n",
            "_________________________________________________________________\n"
          ]
        }
      ],
      "source": [
        "model_mnist = keras.Sequential([\n",
        "    keras.layers.Input((28, 28, 1)), # data as image: heigth x width x channels. MNIST is grayscale » 1 channel\n",
        "    keras.layers.Flatten(),\n",
        "    keras.layers.Dense(16, activation=\"relu\"),\n",
        "    keras.layers.Dense(16, activation=\"relu\"),\n",
        "    keras.layers.Dense(10),\n",
        "    keras.layers.Activation(\"softmax\")\n",
        "])\n",
        "\n",
        "model_mnist.compile(optimizer=\"adam\", loss=\"categorical_crossentropy\", metrics=[\"accuracy\"])\n",
        "\n",
        "model_mnist.summary()"
      ]
    },
    {
      "cell_type": "code",
      "execution_count": null,
      "metadata": {
        "id": "nEKq8sBG_let"
      },
      "outputs": [],
      "source": [
        "(x, y), (x_test, y_test) = tf.keras.datasets.mnist.load_data()\n",
        "\n",
        "def preprocess_data(data):\n",
        "  '''\n",
        "  Changes data type to float32, normalizes in [0,1] range, and add a channel singleton dimension\n",
        "  '''\n",
        "  return np.expand_dims(data.astype(\"float32\"), -1) / 255\n",
        "\n",
        "x = preprocess_data(x)\n",
        "x_test = preprocess_data(x_test)\n",
        "\n",
        "y = keras.utils.to_categorical(y, 10)\n",
        "y_test = keras.utils.to_categorical(y_test, 10)"
      ]
    },
    {
      "cell_type": "code",
      "source": [
        "def download_weights(url, destination_filename):\n",
        "  request = requests.get(url)\n",
        "  with open(destination_filename, 'wb') as outfile:\n",
        "      outfile.write(request.content)\n",
        "\n",
        "download_weights(\"https://www.zullich.it/misc/nn_mnist_weights.keras\", \"nn_mnist_weights.keras\")\n",
        "model_mnist.load_weights(\"nn_mnist_weights.keras\")"
      ],
      "metadata": {
        "id": "zGU-_Lb5ET9u"
      },
      "execution_count": null,
      "outputs": []
    },
    {
      "cell_type": "code",
      "execution_count": null,
      "metadata": {
        "colab": {
          "base_uri": "https://localhost:8080/"
        },
        "id": "ViPNcQa649Ry",
        "outputId": "70403200-45a5-4453-cf96-e1da97d7e133"
      },
      "outputs": [
        {
          "output_type": "stream",
          "name": "stdout",
          "text": [
            "Epoch 1/15\n",
            "469/469 [==============================] - 3s 3ms/step - loss: 0.5954 - accuracy: 0.8341\n",
            "Epoch 2/15\n",
            "469/469 [==============================] - 2s 5ms/step - loss: 0.2781 - accuracy: 0.9198\n",
            "Epoch 3/15\n",
            "469/469 [==============================] - 2s 4ms/step - loss: 0.2414 - accuracy: 0.9295\n",
            "Epoch 4/15\n",
            "469/469 [==============================] - 2s 4ms/step - loss: 0.2183 - accuracy: 0.9370\n",
            "Epoch 5/15\n",
            "469/469 [==============================] - 2s 3ms/step - loss: 0.2031 - accuracy: 0.9413\n",
            "Epoch 6/15\n",
            "469/469 [==============================] - 3s 6ms/step - loss: 0.1911 - accuracy: 0.9441\n",
            "Epoch 7/15\n",
            "469/469 [==============================] - 4s 9ms/step - loss: 0.1817 - accuracy: 0.9466\n",
            "Epoch 8/15\n",
            "469/469 [==============================] - 5s 10ms/step - loss: 0.1733 - accuracy: 0.9485\n",
            "Epoch 9/15\n",
            "469/469 [==============================] - 3s 7ms/step - loss: 0.1661 - accuracy: 0.9516\n",
            "Epoch 10/15\n",
            "469/469 [==============================] - 3s 7ms/step - loss: 0.1587 - accuracy: 0.9529\n",
            "Epoch 11/15\n",
            "469/469 [==============================] - 4s 9ms/step - loss: 0.1545 - accuracy: 0.9550\n",
            "Epoch 12/15\n",
            "469/469 [==============================] - 3s 6ms/step - loss: 0.1496 - accuracy: 0.9557\n",
            "Epoch 13/15\n",
            "469/469 [==============================] - 3s 5ms/step - loss: 0.1441 - accuracy: 0.9571\n",
            "Epoch 14/15\n",
            "469/469 [==============================] - 3s 6ms/step - loss: 0.1406 - accuracy: 0.9585\n",
            "Epoch 15/15\n",
            "469/469 [==============================] - 2s 4ms/step - loss: 0.1360 - accuracy: 0.9597\n"
          ]
        },
        {
          "output_type": "execute_result",
          "data": {
            "text/plain": [
              "<keras.src.callbacks.History at 0x7bb00896dbd0>"
            ]
          },
          "metadata": {},
          "execution_count": 5
        }
      ],
      "source": [
        "# Uncomment if you wish to train\n",
        "# model_mnist.fit(x, y, batch_size=128, epochs=15)"
      ]
    },
    {
      "cell_type": "code",
      "execution_count": null,
      "metadata": {
        "colab": {
          "base_uri": "https://localhost:8080/",
          "height": 17
        },
        "id": "Bb187DU6rsUd",
        "outputId": "730fff77-0c96-42e9-ba96-a060eb5df2ed"
      },
      "outputs": [
        {
          "output_type": "display_data",
          "data": {
            "text/plain": [
              "<IPython.core.display.Javascript object>"
            ],
            "application/javascript": [
              "\n",
              "    async function download(id, filename, size) {\n",
              "      if (!google.colab.kernel.accessAllowed) {\n",
              "        return;\n",
              "      }\n",
              "      const div = document.createElement('div');\n",
              "      const label = document.createElement('label');\n",
              "      label.textContent = `Downloading \"${filename}\": `;\n",
              "      div.appendChild(label);\n",
              "      const progress = document.createElement('progress');\n",
              "      progress.max = size;\n",
              "      div.appendChild(progress);\n",
              "      document.body.appendChild(div);\n",
              "\n",
              "      const buffers = [];\n",
              "      let downloaded = 0;\n",
              "\n",
              "      const channel = await google.colab.kernel.comms.open(id);\n",
              "      // Send a message to notify the kernel that we're ready.\n",
              "      channel.send({})\n",
              "\n",
              "      for await (const message of channel.messages) {\n",
              "        // Send a message to notify the kernel that we're ready.\n",
              "        channel.send({})\n",
              "        if (message.buffers) {\n",
              "          for (const buffer of message.buffers) {\n",
              "            buffers.push(buffer);\n",
              "            downloaded += buffer.byteLength;\n",
              "            progress.value = downloaded;\n",
              "          }\n",
              "        }\n",
              "      }\n",
              "      const blob = new Blob(buffers, {type: 'application/binary'});\n",
              "      const a = document.createElement('a');\n",
              "      a.href = window.URL.createObjectURL(blob);\n",
              "      a.download = filename;\n",
              "      div.appendChild(a);\n",
              "      a.click();\n",
              "      div.remove();\n",
              "    }\n",
              "  "
            ]
          },
          "metadata": {}
        },
        {
          "output_type": "display_data",
          "data": {
            "text/plain": [
              "<IPython.core.display.Javascript object>"
            ],
            "application/javascript": [
              "download(\"download_318fafa8-e099-48bf-b1a9-1d149b24a909\", \"nn_mnist_weights.keras\", 68672)"
            ]
          },
          "metadata": {}
        }
      ],
      "source": [
        "# uncomment to save weights\n",
        "# from google.colab import files\n",
        "# model_mnist.save_weights(\"nn_mnist_weights.keras\")\n",
        "# files.download(\"nn_mnist_weights.keras\")"
      ]
    },
    {
      "cell_type": "markdown",
      "source": [
        "Get the predictions..."
      ],
      "metadata": {
        "id": "QGuYQTuoE09N"
      }
    },
    {
      "cell_type": "code",
      "execution_count": null,
      "metadata": {
        "colab": {
          "base_uri": "https://localhost:8080/"
        },
        "id": "y38GwzmdBzHZ",
        "outputId": "de723820-007c-4484-89b4-d5783972cbc5"
      },
      "outputs": [
        {
          "output_type": "stream",
          "name": "stdout",
          "text": [
            "313/313 [==============================] - 0s 1ms/step\n"
          ]
        },
        {
          "output_type": "execute_result",
          "data": {
            "text/plain": [
              "0.9491"
            ]
          },
          "metadata": {},
          "execution_count": 30
        }
      ],
      "source": [
        "mnist_test_predictions = model_mnist.predict(x_test)\n",
        "mnist_test_correct_predictions = (mnist_test_predictions.argmax(axis=1) == y_test.argmax(axis=1))\n",
        "mnist_test_accuracy = mnist_test_correct_predictions.mean()\n",
        "mnist_test_accuracy"
      ]
    },
    {
      "cell_type": "markdown",
      "metadata": {
        "id": "VzxvRYNTI4XW"
      },
      "source": [
        "Let's now evaluate our model with a randomly generated image within the $[0-1]$ range"
      ]
    },
    {
      "cell_type": "code",
      "execution_count": null,
      "metadata": {
        "colab": {
          "base_uri": "https://localhost:8080/",
          "height": 447
        },
        "id": "7mdDykQpJEvT",
        "outputId": "7de9dda8-5166-407d-c240-7189052e76b9"
      },
      "outputs": [
        {
          "output_type": "execute_result",
          "data": {
            "text/plain": [
              "<matplotlib.image.AxesImage at 0x7baffbf0c0d0>"
            ]
          },
          "metadata": {},
          "execution_count": 11
        },
        {
          "output_type": "display_data",
          "data": {
            "text/plain": [
              "<Figure size 640x480 with 1 Axes>"
            ],
            "image/png": "[encoded data removed]"
          },
          "metadata": {}
        }
      ],
      "source": [
        "random_image = np.random.rand(28,28)\n",
        "plt.imshow(random_image, cmap=\"gray\")"
      ]
    },
    {
      "cell_type": "code",
      "execution_count": null,
      "metadata": {
        "id": "ce8uyiXgJTbV"
      },
      "outputs": [],
      "source": [
        "def predict_and_plot(image, model, normalize=False):\n",
        "  if normalize:\n",
        "    image = image / 255\n",
        "  model_output = model.predict(image)\n",
        "  _=plt.bar(x=np.arange(0,10), height=model_output.squeeze())\n",
        "  _=plt.xticks(np.arange(0,10))"
      ]
    },
    {
      "cell_type": "code",
      "execution_count": null,
      "metadata": {
        "colab": {
          "base_uri": "https://localhost:8080/",
          "height": 447
        },
        "id": "WQ8p0KuON5AR",
        "outputId": "b7f78728-a47c-4d84-bc3d-1f43ac34ad05"
      },
      "outputs": [
        {
          "output_type": "stream",
          "name": "stdout",
          "text": [
            "1/1 [==============================] - 0s 25ms/step\n"
          ]
        },
        {
          "output_type": "display_data",
          "data": {
            "text/plain": [
              "<Figure size 640x480 with 1 Axes>"
            ],
            "image/png": "[encoded data removed]"
          },
          "metadata": {}
        }
      ],
      "source": [
        "predict_and_plot(np.expand_dims(random_image, (0, -1)), model_mnist)"
      ]
    },
    {
      "cell_type": "markdown",
      "metadata": {
        "id": "4_qOj4wNzvXz"
      },
      "source": [
        "**Q: _The above image is an example of..._**\n",
        "1. **_known known_**\n",
        "2. **_unknown known_**\n",
        "3. **_known unknown_**\n",
        "4. **_unknown unknown_**\n",
        "\n",
        "Answer: the data is an unknown unknown: the image does not come from any of the classes within the training set, and the model does not know of the existence of these additional images.\n",
        "\n",
        "**Q: _What can you say on the behavior of the model in this case?_**\n",
        "\n",
        "The model is extremely confident that the image is a 5, which points at possible miscalibration (overconfidence), although calibration **needs to be evaluated on an aggregate basis---it cannot be evaluated on a single data point**."
      ]
    },
    {
      "cell_type": "markdown",
      "metadata": {
        "id": "MlexdbmsMnlp"
      },
      "source": [
        "Let's try with another example..."
      ]
    },
    {
      "cell_type": "code",
      "execution_count": null,
      "metadata": {
        "colab": {
          "base_uri": "https://localhost:8080/",
          "height": 447
        },
        "id": "mex-QIvtNGO2",
        "outputId": "4151c111-e3db-4c48-86d2-dc3f35026f32"
      },
      "outputs": [
        {
          "output_type": "execute_result",
          "data": {
            "text/plain": [
              "<matplotlib.image.AxesImage at 0x7bb00825ac20>"
            ]
          },
          "metadata": {},
          "execution_count": 14
        },
        {
          "output_type": "display_data",
          "data": {
            "text/plain": [
              "<Figure size 640x480 with 1 Axes>"
            ],
            "image/png": "[encoded data removed]"
          },
          "metadata": {}
        }
      ],
      "source": [
        "shifted_img = np.zeros((28,28,1))\n",
        "shifted_img[:20,:21] = x[1,5:25,4:25] / 255\n",
        "plt.imshow(shifted_img, cmap=\"gray\")"
      ]
    },
    {
      "cell_type": "code",
      "execution_count": null,
      "metadata": {
        "colab": {
          "base_uri": "https://localhost:8080/",
          "height": 447
        },
        "id": "Icrb6czRMvmh",
        "outputId": "6d3bad33-286a-42b3-d866-1b20b7bba4b6"
      },
      "outputs": [
        {
          "output_type": "stream",
          "name": "stdout",
          "text": [
            "1/1 [==============================] - 0s 26ms/step\n"
          ]
        },
        {
          "output_type": "display_data",
          "data": {
            "text/plain": [
              "<Figure size 640x480 with 1 Axes>"
            ],
            "image/png": "[encoded data removed]"
          },
          "metadata": {}
        }
      ],
      "source": [
        "predict_and_plot(np.expand_dims(shifted_img, 0), model_mnist)"
      ]
    },
    {
      "cell_type": "markdown",
      "metadata": {
        "id": "LJz0lNc2zOeH"
      },
      "source": [
        "**Q: _Can you comment on the behavior of the model for this specific image? Is it a case of unknown known or unknown unknown? Do you think the image is really OOD, or is the failure of the model here a case of bad model selection/bad inductive biases?_**\n",
        "\n",
        "Anyway, we can notice that the model is **much less confident** in this case (confidence is around 0.3 for the predicted class 5, while for the random image it was >0.9), so this indicates that there is a sort of \"uncertainty\" in the prediction."
      ]
    },
    {
      "cell_type": "markdown",
      "metadata": {
        "id": "fq8pdYM8OHLO"
      },
      "source": [
        "## Assessing OOD detection capability\n",
        "\n",
        "Assessing OOD detection capability is a hard task.\n",
        "Multiple things need to be taken into consideration while deciding the dataset for assessing it:\n",
        "1. The domain for OOD model is huge, potentially infinite: it's thus impossible to obtain a comprehensive dataset for exhaustively evaluate the potential of the model on OOD detection\n",
        "2. What is the level of _similarity_ needed between the training dataset and the dataset for assessing OOD detection? In most applications, we might want to get a dataset where the datapoints are _sufficiently similar_ to the data in the trainset, data that the model could encounter while being tested or deployed. For instance, if we train a model to classify paintings, it's probably useless to assess it against images from MNIST or CIFAR10. In other words, the domain of the data should be similar and plausible for the application.\n",
        "\n",
        "In our case, we will compare our model trained on MNIST against data from Fashion-MNIST. This is a standard OOD test in the literature, especially for toy examples, since (a) both data are natively produced at the same resolution (28x28 pixels) and with similar domain (the images contain grayscale examples of handwritte digits/fashion products and the background is always plain black; in addition, the images contain only the object to be classified, unlike other popular image datasets which contain natural images), and (b) there is no overlap between the classes of MNIST and Fashion MNIST, which makes it the perfect model to evaluate the confidence of the model when being evaluated with unknown unknowns.\n",
        "\n",
        "![data from Fashion MNIST](https://storage.googleapis.com/kaggle-datasets-images/2243/3791/9384af51de8baa77f6320901f53bd26b/dataset-cover.png)\n",
        "\n",
        "We first download the Fashion MNIST dataset using keras API:"
      ]
    },
    {
      "cell_type": "code",
      "execution_count": null,
      "metadata": {
        "colab": {
          "base_uri": "https://localhost:8080/"
        },
        "id": "DzHtsQ0P6y0V",
        "outputId": "44549992-35f4-4e55-e190-b56c0037755f"
      },
      "outputs": [
        {
          "output_type": "stream",
          "name": "stdout",
          "text": [
            "Downloading data from https://storage.googleapis.com/tensorflow/tf-keras-datasets/train-labels-idx1-ubyte.gz\n",
            "29515/29515 [==============================] - 0s 0us/step\n",
            "Downloading data from https://storage.googleapis.com/tensorflow/tf-keras-datasets/train-images-idx3-ubyte.gz\n",
            "26421880/26421880 [==============================] - 0s 0us/step\n",
            "Downloading data from https://storage.googleapis.com/tensorflow/tf-keras-datasets/t10k-labels-idx1-ubyte.gz\n",
            "5148/5148 [==============================] - 0s 0us/step\n",
            "Downloading data from https://storage.googleapis.com/tensorflow/tf-keras-datasets/t10k-images-idx3-ubyte.gz\n",
            "4422102/4422102 [==============================] - 0s 0us/step\n"
          ]
        }
      ],
      "source": [
        "_, (x_ood, y_ood) = tf.keras.datasets.fashion_mnist.load_data()\n",
        "x_ood = preprocess_data(x_ood)"
      ]
    },
    {
      "cell_type": "markdown",
      "metadata": {
        "id": "uRYiOnUHyrdH"
      },
      "source": [
        "**Q: *What does the `_` mean in the expression `_, (x_ood, y_ood) = tf...`? Why is it there?***\n"
      ]
    },
    {
      "cell_type": "markdown",
      "metadata": {
        "id": "PmjsVz1s3Fpx"
      },
      "source": [
        "We then proceed to evaluate the new data on our keras model, producing the predictions."
      ]
    },
    {
      "cell_type": "code",
      "execution_count": null,
      "metadata": {
        "colab": {
          "base_uri": "https://localhost:8080/"
        },
        "id": "PA1jRzjekmuZ",
        "outputId": "ac570599-a407-4673-941a-4e822d036730"
      },
      "outputs": [
        {
          "output_type": "stream",
          "name": "stdout",
          "text": [
            "313/313 [==============================] - 1s 2ms/step\n"
          ]
        }
      ],
      "source": [
        "fmnist_predictions = model_mnist.predict(x_ood)"
      ]
    },
    {
      "cell_type": "markdown",
      "metadata": {
        "id": "Z15D8F3s3adE"
      },
      "source": [
        "We then obtain the confidence value associated to the highest prediction for both MNIST and Fashion MNIST.\n",
        "\n",
        "The confidence value can be obtained both from the logits (pre-softmax) and from the probability values (post-softmax).\n",
        "Usually, working with the logits yields better results for OOD detection. **Can we get them directly?**\n"
      ]
    },
    {
      "cell_type": "code",
      "source": [
        "pre_softmax_extractor = keras.Model(\n",
        "    inputs=model_mnist.inputs,\n",
        "    outputs=model_mnist.layers[-2].output\n",
        ")\n",
        "\n",
        "mnist_test_logits = pre_softmax_extractor(x_test)\n",
        "fmnist_test_logits = pre_softmax_extractor(x_ood)\n"
      ],
      "metadata": {
        "id": "9gSAg9JYoEwo"
      },
      "execution_count": null,
      "outputs": []
    },
    {
      "cell_type": "code",
      "source": [
        "mnist_test_logits[:10]"
      ],
      "metadata": {
        "id": "u4_7Bp6WoYL4",
        "outputId": "b42ad7f8-ee47-4c1a-a1bc-9f18ce790c87",
        "colab": {
          "base_uri": "https://localhost:8080/"
        }
      },
      "execution_count": null,
      "outputs": [
        {
          "output_type": "execute_result",
          "data": {
            "text/plain": [
              "<tf.Tensor: shape=(10, 10), dtype=float32, numpy=\n",
              "array([[ -5.6996474 ,  -7.923132  ,  -0.25338528,   2.0349963 ,\n",
              "        -14.204564  ,  -5.713475  , -13.212934  ,   9.0110855 ,\n",
              "         -2.7225912 ,  -1.7553169 ],\n",
              "       [ -7.691839  ,   1.0514891 ,  10.993782  ,   0.04135112,\n",
              "        -22.018658  ,  -8.974573  ,  -7.4417152 , -20.615911  ,\n",
              "        -11.574631  , -24.597948  ],\n",
              "       [ -5.838163  ,   4.064906  ,  -2.1353471 ,  -6.0678997 ,\n",
              "         -4.7933726 ,  -7.3899083 ,  -4.628801  ,  -1.0504667 ,\n",
              "         -1.0805976 ,  -8.076956  ],\n",
              "       [ 10.4079    ,  -9.76432   ,  -5.5709047 ,  -8.221415  ,\n",
              "         -8.369861  ,  -5.22904   ,  -2.0357456 ,  -3.7437184 ,\n",
              "        -13.474286  ,  -5.9645066 ],\n",
              "       [  0.23207094, -12.37237   ,  -5.3475633 ,  -6.9197736 ,\n",
              "          8.501945  ,  -7.15301   ,  -4.46707   ,  -0.24801373,\n",
              "         -2.327554  ,   1.300501  ],\n",
              "       [ -7.4397373 ,   5.2786684 ,  -5.560198  ,  -8.274228  ,\n",
              "         -5.3755713 , -11.557102  ,  -8.765596  ,   0.1361039 ,\n",
              "         -4.5008364 ,  -8.793441  ],\n",
              "       [ -8.552601  ,  -6.434865  ,  -3.5860217 ,  -7.247895  ,\n",
              "          6.8074746 ,  -5.303155  ,  -6.5521145 ,  -2.6326458 ,\n",
              "         -0.15287513,  -0.55586493],\n",
              "       [ -8.696945  ,  -3.5541544 ,  -4.239797  ,  -2.4425209 ,\n",
              "         -0.06160331,  -6.668184  , -13.589012  ,  -5.797825  ,\n",
              "         -4.699627  ,   7.2497253 ],\n",
              "       [ -5.9849095 , -10.321853  ,  -3.3490462 ,  -5.968966  ,\n",
              "         -6.2845407 ,   4.109081  ,   6.1068964 , -11.859689  ,\n",
              "          0.9128772 ,  -1.3935469 ],\n",
              "       [ -8.941887  , -14.266231  ,  -5.7062044 ,  -3.8624454 ,\n",
              "          3.3501174 ,  -5.1648827 , -13.344115  ,   3.2357776 ,\n",
              "          0.1791245 ,  10.724167  ]], dtype=float32)>"
            ]
          },
          "metadata": {},
          "execution_count": 20
        }
      ]
    },
    {
      "cell_type": "markdown",
      "source": [
        "**Note: to use logits, just replace `predictions` with `logits`**"
      ],
      "metadata": {
        "id": "rsfxLSADy5Nk"
      }
    },
    {
      "cell_type": "code",
      "execution_count": null,
      "metadata": {
        "id": "pF1-BnTbG2iK",
        "colab": {
          "base_uri": "https://localhost:8080/",
          "height": 194
        },
        "outputId": "f3ab16c4-f4a5-46d0-ce86-c508a7f8beca"
      },
      "outputs": [
        {
          "output_type": "error",
          "ename": "NameError",
          "evalue": "name 'fmnist_predictions' is not defined",
          "traceback": [
            "\u001b[0;31m---------------------------------------------------------------------------\u001b[0m",
            "\u001b[0;31mNameError\u001b[0m                                 Traceback (most recent call last)",
            "\u001b[0;32m<ipython-input-31-58b24da0d249>\u001b[0m in \u001b[0;36m<cell line: 2>\u001b[0;34m()\u001b[0m\n\u001b[1;32m      1\u001b[0m \u001b[0mmnist_test_confidence\u001b[0m \u001b[0;34m=\u001b[0m \u001b[0mmnist_test_predictions\u001b[0m\u001b[0;34m.\u001b[0m\u001b[0mmax\u001b[0m\u001b[0;34m(\u001b[0m\u001b[0maxis\u001b[0m\u001b[0;34m=\u001b[0m\u001b[0;36m1\u001b[0m\u001b[0;34m)\u001b[0m\u001b[0;34m\u001b[0m\u001b[0;34m\u001b[0m\u001b[0m\n\u001b[0;32m----> 2\u001b[0;31m \u001b[0mfmnist_confidence\u001b[0m \u001b[0;34m=\u001b[0m \u001b[0mfmnist_predictions\u001b[0m\u001b[0;34m.\u001b[0m\u001b[0mmax\u001b[0m\u001b[0;34m(\u001b[0m\u001b[0maxis\u001b[0m\u001b[0;34m=\u001b[0m\u001b[0;36m1\u001b[0m\u001b[0;34m)\u001b[0m\u001b[0;34m\u001b[0m\u001b[0;34m\u001b[0m\u001b[0m\n\u001b[0m",
            "\u001b[0;31mNameError\u001b[0m: name 'fmnist_predictions' is not defined"
          ]
        }
      ],
      "source": [
        "mnist_test_confidence = mnist_test_predictions.max(axis=1)\n",
        "fmnist_confidence = fmnist_predictions.max(axis=1)"
      ]
    },
    {
      "cell_type": "markdown",
      "metadata": {
        "id": "47Ot1Vjm3kWy"
      },
      "source": [
        "We can immediately compare the two distribution using a visualization method like a boxplot (also density/violin plots are perfectly fine for this task). In the figure below, \"1\" on the x-axis refers to MNIST, \"2\" to Fashion MNIST, while the y axis tracks the confidence."
      ]
    },
    {
      "cell_type": "code",
      "execution_count": null,
      "metadata": {
        "colab": {
          "base_uri": "https://localhost:8080/",
          "height": 452
        },
        "id": "4G75fr2RkvXp",
        "outputId": "5e6ec0b8-bc11-4082-9304-701d8e07539e"
      },
      "outputs": [
        {
          "output_type": "execute_result",
          "data": {
            "text/plain": [
              "(0.0, 1.0)"
            ]
          },
          "metadata": {},
          "execution_count": 19
        },
        {
          "output_type": "display_data",
          "data": {
            "text/plain": [
              "<Figure size 640x480 with 1 Axes>"
            ],
            "image/png": "[encoded data removed]"
          },
          "metadata": {}
        }
      ],
      "source": [
        "_ = plt.boxplot([mnist_test_confidence, fmnist_confidence])\n",
        "plt.ylim((0,1)) # comment if using logits"
      ]
    },
    {
      "cell_type": "markdown",
      "metadata": {
        "id": "BDQUvcA93uXW"
      },
      "source": [
        "**Q: _What can you comment on the above chart? What are the main differences between the two distributions?_**\n",
        "\n"
      ]
    },
    {
      "cell_type": "markdown",
      "metadata": {
        "id": "HbIuH5GQ4Fem"
      },
      "source": [
        "We can quantitatively check the model capability for telling apart ID and OOD data by using the confidence values as _predictors_ for OOD.\n",
        "We can do so by assigning a synthetic label of 0 for ID data (MNIST) and 1 for OOD data (Fashion MNIST) and see if we can find a confidence threshold which optimally divides the two distributions.\n",
        "We can measure the performance using one or more metrics for binary classification:\n",
        "* Accuracy\n",
        "* FP and/or FN\n",
        "* F1 score\n",
        "* ...\n",
        "\n",
        "**_Other ideas_**?"
      ]
    },
    {
      "cell_type": "code",
      "execution_count": null,
      "metadata": {
        "id": "hhafRhJHmpWh"
      },
      "outputs": [],
      "source": [
        "def ood_detection_scores(confidence_id, confidence_ood,\n",
        "                         min_thresh=0.0, max_thresh=1.0, num_steps=101,\n",
        "                         comparison_fn=np.less):\n",
        "\n",
        "  ood_label = np.concatenate([\n",
        "      np.zeros_like(confidence_id),\n",
        "      np.ones_like(confidence_ood)\n",
        "  ])\n",
        "\n",
        "  len_id = len(confidence_id)\n",
        "\n",
        "  threshold = []\n",
        "  accuracy = []\n",
        "  accuracy_id = []\n",
        "  accuracy_ood = []\n",
        "  f1_score = []\n",
        "  # add here other metrics\n",
        "\n",
        "  for thresh in np.linspace(min_thresh, max_thresh, num_steps):\n",
        "    detection_scores_id = np.where(comparison_fn(confidence_id, thresh), 1, 0)\n",
        "    detection_scores_ood = np.where(comparison_fn(confidence_ood, thresh), 1, 0)\n",
        "    detection_scores = np.concatenate([detection_scores_id, detection_scores_ood])\n",
        "\n",
        "    acc = M.accuracy_score(ood_label, detection_scores)\n",
        "    acc_id = M.accuracy_score(ood_label[:len_id], detection_scores_id)\n",
        "    acc_ood = M.accuracy_score(ood_label[len_id:], detection_scores_ood)\n",
        "    f1 = M.f1_score(ood_label, detection_scores)\n",
        "    # add here other metrics\n",
        "\n",
        "    threshold.append(thresh)\n",
        "    accuracy.append(acc)\n",
        "    accuracy_id.append(acc_id)\n",
        "    accuracy_ood.append(acc_ood)\n",
        "    f1_score.append(f1)\n",
        "    # add here other metrics\n",
        "\n",
        "  ood_detection_scores = pd.DataFrame({\n",
        "    \"threshold\": threshold,\n",
        "    \"accuracy\": accuracy,\n",
        "    \"accuracy_id\": accuracy_id,\n",
        "    \"accuracy_ood\": accuracy_ood,\n",
        "    \"f1_score\": f1_score,\n",
        "    # add here other metrics\n",
        "  })\n",
        "\n",
        "  return ood_detection_scores"
      ]
    },
    {
      "cell_type": "code",
      "execution_count": null,
      "metadata": {
        "colab": {
          "base_uri": "https://localhost:8080/",
          "height": 423
        },
        "id": "56y_5qIQus3E",
        "outputId": "93326269-4446-4a60-81f4-64883872ecc8"
      },
      "outputs": [
        {
          "output_type": "execute_result",
          "data": {
            "text/plain": [
              "     threshold  accuracy  accuracy_id  accuracy_ood  f1_score\n",
              "0         0.00   0.50000       1.0000        0.0000  0.000000\n",
              "1         0.01   0.50000       1.0000        0.0000  0.000000\n",
              "2         0.02   0.50000       1.0000        0.0000  0.000000\n",
              "3         0.03   0.50000       1.0000        0.0000  0.000000\n",
              "4         0.04   0.50000       1.0000        0.0000  0.000000\n",
              "..         ...       ...          ...           ...       ...\n",
              "96        0.96   0.65745       0.8018        0.5131  0.599661\n",
              "97        0.97   0.65955       0.7749        0.5442  0.615159\n",
              "98        0.98   0.66055       0.7350        0.5861  0.633245\n",
              "99        0.99   0.65260       0.6512        0.6540  0.653086\n",
              "100       1.00   0.50000       0.0000        1.0000  0.666667\n",
              "\n",
              "[101 rows x 5 columns]"
            ],
            "text/html": [
              "\n",
              "  <div id=\"df-bc3c9459-1b52-490b-9b67-6c4dce5a268c\" class=\"colab-df-container\">\n",
              "    <div>\n",
              "<style scoped>\n",
              "    .dataframe tbody tr th:only-of-type {\n",
              "        vertical-align: middle;\n",
              "    }\n",
              "\n",
              "    .dataframe tbody tr th {\n",
              "        vertical-align: top;\n",
              "    }\n",
              "\n",
              "    .dataframe thead th {\n",
              "        text-align: right;\n",
              "    }\n",
              "</style>\n",
              "<table border=\"1\" class=\"dataframe\">\n",
              "  <thead>\n",
              "    <tr style=\"text-align: right;\">\n",
              "      <th></th>\n",
              "      <th>threshold</th>\n",
              "      <th>accuracy</th>\n",
              "      <th>accuracy_id</th>\n",
              "      <th>accuracy_ood</th>\n",
              "      <th>f1_score</th>\n",
              "    </tr>\n",
              "  </thead>\n",
              "  <tbody>\n",
              "    <tr>\n",
              "      <th>0</th>\n",
              "      <td>0.00</td>\n",
              "      <td>0.50000</td>\n",
              "      <td>1.0000</td>\n",
              "      <td>0.0000</td>\n",
              "      <td>0.000000</td>\n",
              "    </tr>\n",
              "    <tr>\n",
              "      <th>1</th>\n",
              "      <td>0.01</td>\n",
              "      <td>0.50000</td>\n",
              "      <td>1.0000</td>\n",
              "      <td>0.0000</td>\n",
              "      <td>0.000000</td>\n",
              "    </tr>\n",
              "    <tr>\n",
              "      <th>2</th>\n",
              "      <td>0.02</td>\n",
              "      <td>0.50000</td>\n",
              "      <td>1.0000</td>\n",
              "      <td>0.0000</td>\n",
              "      <td>0.000000</td>\n",
              "    </tr>\n",
              "    <tr>\n",
              "      <th>3</th>\n",
              "      <td>0.03</td>\n",
              "      <td>0.50000</td>\n",
              "      <td>1.0000</td>\n",
              "      <td>0.0000</td>\n",
              "      <td>0.000000</td>\n",
              "    </tr>\n",
              "    <tr>\n",
              "      <th>4</th>\n",
              "      <td>0.04</td>\n",
              "      <td>0.50000</td>\n",
              "      <td>1.0000</td>\n",
              "      <td>0.0000</td>\n",
              "      <td>0.000000</td>\n",
              "    </tr>\n",
              "    <tr>\n",
              "      <th>...</th>\n",
              "      <td>...</td>\n",
              "      <td>...</td>\n",
              "      <td>...</td>\n",
              "      <td>...</td>\n",
              "      <td>...</td>\n",
              "    </tr>\n",
              "    <tr>\n",
              "      <th>96</th>\n",
              "      <td>0.96</td>\n",
              "      <td>0.65745</td>\n",
              "      <td>0.8018</td>\n",
              "      <td>0.5131</td>\n",
              "      <td>0.599661</td>\n",
              "    </tr>\n",
              "    <tr>\n",
              "      <th>97</th>\n",
              "      <td>0.97</td>\n",
              "      <td>0.65955</td>\n",
              "      <td>0.7749</td>\n",
              "      <td>0.5442</td>\n",
              "      <td>0.615159</td>\n",
              "    </tr>\n",
              "    <tr>\n",
              "      <th>98</th>\n",
              "      <td>0.98</td>\n",
              "      <td>0.66055</td>\n",
              "      <td>0.7350</td>\n",
              "      <td>0.5861</td>\n",
              "      <td>0.633245</td>\n",
              "    </tr>\n",
              "    <tr>\n",
              "      <th>99</th>\n",
              "      <td>0.99</td>\n",
              "      <td>0.65260</td>\n",
              "      <td>0.6512</td>\n",
              "      <td>0.6540</td>\n",
              "      <td>0.653086</td>\n",
              "    </tr>\n",
              "    <tr>\n",
              "      <th>100</th>\n",
              "      <td>1.00</td>\n",
              "      <td>0.50000</td>\n",
              "      <td>0.0000</td>\n",
              "      <td>1.0000</td>\n",
              "      <td>0.666667</td>\n",
              "    </tr>\n",
              "  </tbody>\n",
              "</table>\n",
              "<p>101 rows × 5 columns</p>\n",
              "</div>\n",
              "    <div class=\"colab-df-buttons\">\n",
              "\n",
              "  <div class=\"colab-df-container\">\n",
              "    <button class=\"colab-df-convert\" onclick=\"convertToInteractive('df-bc3c9459-1b52-490b-9b67-6c4dce5a268c')\"\n",
              "            title=\"Convert this dataframe to an interactive table.\"\n",
              "            style=\"display:none;\">\n",
              "\n",
              "  <svg xmlns=\"http://www.w3.org/2000/svg\" height=\"24px\" viewBox=\"0 -960 960 960\">\n",
              "    <path d=\"M120-120v-720h720v720H120Zm60-500h600v-160H180v160Zm220 220h160v-160H400v160Zm0 220h160v-160H400v160ZM180-400h160v-160H180v160Zm440 0h160v-160H620v160ZM180-180h160v-160H180v160Zm440 0h160v-160H620v160Z\"/>\n",
              "  </svg>\n",
              "    </button>\n",
              "\n",
              "  <style>\n",
              "    .colab-df-container {\n",
              "      display:flex;\n",
              "      gap: 12px;\n",
              "    }\n",
              "\n",
              "    .colab-df-convert {\n",
              "      background-color: #E8F0FE;\n",
              "      border: none;\n",
              "      border-radius: 50%;\n",
              "      cursor: pointer;\n",
              "      display: none;\n",
              "      fill: #1967D2;\n",
              "      height: 32px;\n",
              "      padding: 0 0 0 0;\n",
              "      width: 32px;\n",
              "    }\n",
              "\n",
              "    .colab-df-convert:hover {\n",
              "      background-color: #E2EBFA;\n",
              "      box-shadow: 0px 1px 2px rgba(60, 64, 67, 0.3), 0px 1px 3px 1px rgba(60, 64, 67, 0.15);\n",
              "      fill: #174EA6;\n",
              "    }\n",
              "\n",
              "    .colab-df-buttons div {\n",
              "      margin-bottom: 4px;\n",
              "    }\n",
              "\n",
              "    [theme=dark] .colab-df-convert {\n",
              "      background-color: #3B4455;\n",
              "      fill: #D2E3FC;\n",
              "    }\n",
              "\n",
              "    [theme=dark] .colab-df-convert:hover {\n",
              "      background-color: #434B5C;\n",
              "      box-shadow: 0px 1px 3px 1px rgba(0, 0, 0, 0.15);\n",
              "      filter: drop-shadow(0px 1px 2px rgba(0, 0, 0, 0.3));\n",
              "      fill: #FFFFFF;\n",
              "    }\n",
              "  </style>\n",
              "\n",
              "    <script>\n",
              "      const buttonEl =\n",
              "        document.querySelector('#df-bc3c9459-1b52-490b-9b67-6c4dce5a268c button.colab-df-convert');\n",
              "      buttonEl.style.display =\n",
              "        google.colab.kernel.accessAllowed ? 'block' : 'none';\n",
              "\n",
              "      async function convertToInteractive(key) {\n",
              "        const element = document.querySelector('#df-bc3c9459-1b52-490b-9b67-6c4dce5a268c');\n",
              "        const dataTable =\n",
              "          await google.colab.kernel.invokeFunction('convertToInteractive',\n",
              "                                                    [key], {});\n",
              "        if (!dataTable) return;\n",
              "\n",
              "        const docLinkHtml = 'Like what you see? Visit the ' +\n",
              "          '<a target=\"_blank\" href=https://colab.research.google.com/notebooks/data_table.ipynb>data table notebook</a>'\n",
              "          + ' to learn more about interactive tables.';\n",
              "        element.innerHTML = '';\n",
              "        dataTable['output_type'] = 'display_data';\n",
              "        await google.colab.output.renderOutput(dataTable, element);\n",
              "        const docLink = document.createElement('div');\n",
              "        docLink.innerHTML = docLinkHtml;\n",
              "        element.appendChild(docLink);\n",
              "      }\n",
              "    </script>\n",
              "  </div>\n",
              "\n",
              "\n",
              "<div id=\"df-32025804-f8ee-484c-9cc1-a22c7f90678a\">\n",
              "  <button class=\"colab-df-quickchart\" onclick=\"quickchart('df-32025804-f8ee-484c-9cc1-a22c7f90678a')\"\n",
              "            title=\"Suggest charts\"\n",
              "            style=\"display:none;\">\n",
              "\n",
              "<svg xmlns=\"http://www.w3.org/2000/svg\" height=\"24px\"viewBox=\"0 0 24 24\"\n",
              "     width=\"24px\">\n",
              "    <g>\n",
              "        <path d=\"M19 3H5c-1.1 0-2 .9-2 2v14c0 1.1.9 2 2 2h14c1.1 0 2-.9 2-2V5c0-1.1-.9-2-2-2zM9 17H7v-7h2v7zm4 0h-2V7h2v10zm4 0h-2v-4h2v4z\"/>\n",
              "    </g>\n",
              "</svg>\n",
              "  </button>\n",
              "\n",
              "<style>\n",
              "  .colab-df-quickchart {\n",
              "      --bg-color: #E8F0FE;\n",
              "      --fill-color: #1967D2;\n",
              "      --hover-bg-color: #E2EBFA;\n",
              "      --hover-fill-color: #174EA6;\n",
              "      --disabled-fill-color: #AAA;\n",
              "      --disabled-bg-color: #DDD;\n",
              "  }\n",
              "\n",
              "  [theme=dark] .colab-df-quickchart {\n",
              "      --bg-color: #3B4455;\n",
              "      --fill-color: #D2E3FC;\n",
              "      --hover-bg-color: #434B5C;\n",
              "      --hover-fill-color: #FFFFFF;\n",
              "      --disabled-bg-color: #3B4455;\n",
              "      --disabled-fill-color: #666;\n",
              "  }\n",
              "\n",
              "  .colab-df-quickchart {\n",
              "    background-color: var(--bg-color);\n",
              "    border: none;\n",
              "    border-radius: 50%;\n",
              "    cursor: pointer;\n",
              "    display: none;\n",
              "    fill: var(--fill-color);\n",
              "    height: 32px;\n",
              "    padding: 0;\n",
              "    width: 32px;\n",
              "  }\n",
              "\n",
              "  .colab-df-quickchart:hover {\n",
              "    background-color: var(--hover-bg-color);\n",
              "    box-shadow: 0 1px 2px rgba(60, 64, 67, 0.3), 0 1px 3px 1px rgba(60, 64, 67, 0.15);\n",
              "    fill: var(--button-hover-fill-color);\n",
              "  }\n",
              "\n",
              "  .colab-df-quickchart-complete:disabled,\n",
              "  .colab-df-quickchart-complete:disabled:hover {\n",
              "    background-color: var(--disabled-bg-color);\n",
              "    fill: var(--disabled-fill-color);\n",
              "    box-shadow: none;\n",
              "  }\n",
              "\n",
              "  .colab-df-spinner {\n",
              "    border: 2px solid var(--fill-color);\n",
              "    border-color: transparent;\n",
              "    border-bottom-color: var(--fill-color);\n",
              "    animation:\n",
              "      spin 1s steps(1) infinite;\n",
              "  }\n",
              "\n",
              "  @keyframes spin {\n",
              "    0% {\n",
              "      border-color: transparent;\n",
              "      border-bottom-color: var(--fill-color);\n",
              "      border-left-color: var(--fill-color);\n",
              "    }\n",
              "    20% {\n",
              "      border-color: transparent;\n",
              "      border-left-color: var(--fill-color);\n",
              "      border-top-color: var(--fill-color);\n",
              "    }\n",
              "    30% {\n",
              "      border-color: transparent;\n",
              "      border-left-color: var(--fill-color);\n",
              "      border-top-color: var(--fill-color);\n",
              "      border-right-color: var(--fill-color);\n",
              "    }\n",
              "    40% {\n",
              "      border-color: transparent;\n",
              "      border-right-color: var(--fill-color);\n",
              "      border-top-color: var(--fill-color);\n",
              "    }\n",
              "    60% {\n",
              "      border-color: transparent;\n",
              "      border-right-color: var(--fill-color);\n",
              "    }\n",
              "    80% {\n",
              "      border-color: transparent;\n",
              "      border-right-color: var(--fill-color);\n",
              "      border-bottom-color: var(--fill-color);\n",
              "    }\n",
              "    90% {\n",
              "      border-color: transparent;\n",
              "      border-bottom-color: var(--fill-color);\n",
              "    }\n",
              "  }\n",
              "</style>\n",
              "\n",
              "  <script>\n",
              "    async function quickchart(key) {\n",
              "      const quickchartButtonEl =\n",
              "        document.querySelector('#' + key + ' button');\n",
              "      quickchartButtonEl.disabled = true;  // To prevent multiple clicks.\n",
              "      quickchartButtonEl.classList.add('colab-df-spinner');\n",
              "      try {\n",
              "        const charts = await google.colab.kernel.invokeFunction(\n",
              "            'suggestCharts', [key], {});\n",
              "      } catch (error) {\n",
              "        console.error('Error during call to suggestCharts:', error);\n",
              "      }\n",
              "      quickchartButtonEl.classList.remove('colab-df-spinner');\n",
              "      quickchartButtonEl.classList.add('colab-df-quickchart-complete');\n",
              "    }\n",
              "    (() => {\n",
              "      let quickchartButtonEl =\n",
              "        document.querySelector('#df-32025804-f8ee-484c-9cc1-a22c7f90678a button');\n",
              "      quickchartButtonEl.style.display =\n",
              "        google.colab.kernel.accessAllowed ? 'block' : 'none';\n",
              "    })();\n",
              "  </script>\n",
              "</div>\n",
              "    </div>\n",
              "  </div>\n"
            ]
          },
          "metadata": {},
          "execution_count": 21
        }
      ],
      "source": [
        "ood_detection_scores(mnist_test_confidence, fmnist_confidence)"
      ]
    },
    {
      "cell_type": "markdown",
      "metadata": {
        "id": "ZLCaguqz40JS"
      },
      "source": [
        "Another common indicator for measuring the _separability_ power of a classifier is the Receiving Operator Curve (ROC) and the corresponding Area Under the Curve (AUC, but often called AUROC or AUC-ROC).\n",
        "This metric already scans the separability for a multeplicity of thresholds. A perfect separability yields a value of 1."
      ]
    },
    {
      "cell_type": "code",
      "execution_count": null,
      "metadata": {
        "colab": {
          "base_uri": "https://localhost:8080/",
          "height": 212
        },
        "id": "4zXGI1DhvqVq",
        "outputId": "b416ddc8-2078-419e-e19d-0a311e391275"
      },
      "outputs": [
        {
          "output_type": "error",
          "ename": "NameError",
          "evalue": "name 'mnist_test_confidence' is not defined",
          "traceback": [
            "\u001b[0;31m---------------------------------------------------------------------------\u001b[0m",
            "\u001b[0;31mNameError\u001b[0m                                 Traceback (most recent call last)",
            "\u001b[0;32m<ipython-input-19-8525267ebfef>\u001b[0m in \u001b[0;36m<cell line: 16>\u001b[0;34m()\u001b[0m\n\u001b[1;32m     14\u001b[0m   \u001b[0mdisplay\u001b[0m\u001b[0;34m.\u001b[0m\u001b[0mplot\u001b[0m\u001b[0;34m(\u001b[0m\u001b[0;34m)\u001b[0m\u001b[0;34m\u001b[0m\u001b[0;34m\u001b[0m\u001b[0m\n\u001b[1;32m     15\u001b[0m \u001b[0;34m\u001b[0m\u001b[0m\n\u001b[0;32m---> 16\u001b[0;31m \u001b[0mplot_roc\u001b[0m\u001b[0;34m(\u001b[0m\u001b[0mmnist_test_confidence\u001b[0m\u001b[0;34m,\u001b[0m \u001b[0mfmnist_confidence\u001b[0m\u001b[0;34m)\u001b[0m\u001b[0;34m\u001b[0m\u001b[0;34m\u001b[0m\u001b[0m\n\u001b[0m",
            "\u001b[0;31mNameError\u001b[0m: name 'mnist_test_confidence' is not defined"
          ]
        }
      ],
      "source": [
        "def plot_roc(confidence_id, confidence_ood):\n",
        "  ood_label = np.concatenate([\n",
        "        np.zeros_like(confidence_id),\n",
        "        np.ones_like(confidence_ood)\n",
        "    ])\n",
        "\n",
        "  true_pos_rate, false_pos_rate, thresh = M.roc_curve(\n",
        "      ood_label,\n",
        "      np.concatenate([confidence_id, confidence_ood])\n",
        "  )\n",
        "  roc_auc = M.auc(false_pos_rate, true_pos_rate)\n",
        "\n",
        "  display = M.RocCurveDisplay(fpr=false_pos_rate, tpr=true_pos_rate, roc_auc=roc_auc)\n",
        "  display.plot()\n",
        "\n",
        "plot_roc(mnist_test_confidence, fmnist_confidence)"
      ]
    },
    {
      "cell_type": "markdown",
      "source": [
        "### Do we get any improvement if we switch to Entropy?\n",
        "\n",
        "We have made considerations on the confidence in the prediction:\n",
        "\n",
        "$$\n",
        "\\text{Conf}(\\hat{y}) = \\max_{c=1,\\dots,C} \\hat{y}\n",
        "$$\n",
        "\n",
        "However, we could also make considerations on the **Entropy** of the prediction\n",
        "\n",
        "$$\n",
        "H(\\hat{y}) = -\\sum_{c=1}^{C} \\hat{y}_c \\log \\hat{y}_c\n",
        "$$"
      ],
      "metadata": {
        "id": "uV0vh1FHIX_O"
      }
    },
    {
      "cell_type": "code",
      "source": [
        "def entropy(predictions_array):\n",
        "  return - (predictions_array * np.log(predictions_array)).sum(axis=1)"
      ],
      "metadata": {
        "id": "mTH8zRSHLM3N"
      },
      "execution_count": null,
      "outputs": []
    },
    {
      "cell_type": "code",
      "source": [
        "entropy_mnist_test = entropy(mnist_test_predictions)\n",
        "entropy_fmnist = entropy(fmnist_predictions)"
      ],
      "metadata": {
        "id": "nkAF35zwKtlp"
      },
      "execution_count": null,
      "outputs": []
    },
    {
      "cell_type": "code",
      "source": [
        "_ = plt.boxplot((entropy_mnist_test, entropy_fmnist))"
      ],
      "metadata": {
        "colab": {
          "base_uri": "https://localhost:8080/",
          "height": 430
        },
        "id": "Ys_4HOqEPVDc",
        "outputId": "9db4047e-97b9-4572-c5e5-3f28c40a70d0"
      },
      "execution_count": null,
      "outputs": [
        {
          "output_type": "display_data",
          "data": {
            "text/plain": [
              "<Figure size 640x480 with 1 Axes>"
            ],
            "image/png": "[encoded data removed]"
          },
          "metadata": {}
        }
      ]
    },
    {
      "cell_type": "markdown",
      "source": [],
      "metadata": {
        "id": "FTRJgJz1LkvN"
      }
    },
    {
      "cell_type": "code",
      "source": [
        "ood_detection_scores(entropy_mnist_test, entropy_fmnist,\n",
        "                     max_thresh=max(entropy_mnist_test.max(), entropy_fmnist.max()),\n",
        "                     comparison_fn=np.greater)"
      ],
      "metadata": {
        "colab": {
          "base_uri": "https://localhost:8080/",
          "height": 423
        },
        "id": "Xux3mtrALlDO",
        "outputId": "beb5065e-c8ed-4125-82e5-9ac2baf11c1a"
      },
      "execution_count": null,
      "outputs": [
        {
          "output_type": "execute_result",
          "data": {
            "text/plain": [
              "     threshold  accuracy  accuracy_id  accuracy_ood  f1_score\n",
              "0     0.000000   0.50000       0.0000        1.0000  0.666667\n",
              "1     0.020047   0.61385       0.4777        0.7500  0.660124\n",
              "2     0.040094   0.63605       0.5844        0.6877  0.653925\n",
              "3     0.060142   0.64770       0.6445        0.6509  0.648824\n",
              "4     0.080189   0.65155       0.6866        0.6165  0.638893\n",
              "..         ...       ...          ...           ...       ...\n",
              "96    1.924531   0.50005       1.0000        0.0001  0.000200\n",
              "97    1.944578   0.50005       1.0000        0.0001  0.000200\n",
              "98    1.964625   0.50005       1.0000        0.0001  0.000200\n",
              "99    1.984672   0.50005       1.0000        0.0001  0.000200\n",
              "100   2.004719   0.50000       1.0000        0.0000  0.000000\n",
              "\n",
              "[101 rows x 5 columns]"
            ],
            "text/html": [
              "\n",
              "  <div id=\"df-5b1dcd76-d171-4947-9b08-e16aeaa25c48\" class=\"colab-df-container\">\n",
              "    <div>\n",
              "<style scoped>\n",
              "    .dataframe tbody tr th:only-of-type {\n",
              "        vertical-align: middle;\n",
              "    }\n",
              "\n",
              "    .dataframe tbody tr th {\n",
              "        vertical-align: top;\n",
              "    }\n",
              "\n",
              "    .dataframe thead th {\n",
              "        text-align: right;\n",
              "    }\n",
              "</style>\n",
              "<table border=\"1\" class=\"dataframe\">\n",
              "  <thead>\n",
              "    <tr style=\"text-align: right;\">\n",
              "      <th></th>\n",
              "      <th>threshold</th>\n",
              "      <th>accuracy</th>\n",
              "      <th>accuracy_id</th>\n",
              "      <th>accuracy_ood</th>\n",
              "      <th>f1_score</th>\n",
              "    </tr>\n",
              "  </thead>\n",
              "  <tbody>\n",
              "    <tr>\n",
              "      <th>0</th>\n",
              "      <td>0.000000</td>\n",
              "      <td>0.50000</td>\n",
              "      <td>0.0000</td>\n",
              "      <td>1.0000</td>\n",
              "      <td>0.666667</td>\n",
              "    </tr>\n",
              "    <tr>\n",
              "      <th>1</th>\n",
              "      <td>0.020047</td>\n",
              "      <td>0.61385</td>\n",
              "      <td>0.4777</td>\n",
              "      <td>0.7500</td>\n",
              "      <td>0.660124</td>\n",
              "    </tr>\n",
              "    <tr>\n",
              "      <th>2</th>\n",
              "      <td>0.040094</td>\n",
              "      <td>0.63605</td>\n",
              "      <td>0.5844</td>\n",
              "      <td>0.6877</td>\n",
              "      <td>0.653925</td>\n",
              "    </tr>\n",
              "    <tr>\n",
              "      <th>3</th>\n",
              "      <td>0.060142</td>\n",
              "      <td>0.64770</td>\n",
              "      <td>0.6445</td>\n",
              "      <td>0.6509</td>\n",
              "      <td>0.648824</td>\n",
              "    </tr>\n",
              "    <tr>\n",
              "      <th>4</th>\n",
              "      <td>0.080189</td>\n",
              "      <td>0.65155</td>\n",
              "      <td>0.6866</td>\n",
              "      <td>0.6165</td>\n",
              "      <td>0.638893</td>\n",
              "    </tr>\n",
              "    <tr>\n",
              "      <th>...</th>\n",
              "      <td>...</td>\n",
              "      <td>...</td>\n",
              "      <td>...</td>\n",
              "      <td>...</td>\n",
              "      <td>...</td>\n",
              "    </tr>\n",
              "    <tr>\n",
              "      <th>96</th>\n",
              "      <td>1.924531</td>\n",
              "      <td>0.50005</td>\n",
              "      <td>1.0000</td>\n",
              "      <td>0.0001</td>\n",
              "      <td>0.000200</td>\n",
              "    </tr>\n",
              "    <tr>\n",
              "      <th>97</th>\n",
              "      <td>1.944578</td>\n",
              "      <td>0.50005</td>\n",
              "      <td>1.0000</td>\n",
              "      <td>0.0001</td>\n",
              "      <td>0.000200</td>\n",
              "    </tr>\n",
              "    <tr>\n",
              "      <th>98</th>\n",
              "      <td>1.964625</td>\n",
              "      <td>0.50005</td>\n",
              "      <td>1.0000</td>\n",
              "      <td>0.0001</td>\n",
              "      <td>0.000200</td>\n",
              "    </tr>\n",
              "    <tr>\n",
              "      <th>99</th>\n",
              "      <td>1.984672</td>\n",
              "      <td>0.50005</td>\n",
              "      <td>1.0000</td>\n",
              "      <td>0.0001</td>\n",
              "      <td>0.000200</td>\n",
              "    </tr>\n",
              "    <tr>\n",
              "      <th>100</th>\n",
              "      <td>2.004719</td>\n",
              "      <td>0.50000</td>\n",
              "      <td>1.0000</td>\n",
              "      <td>0.0000</td>\n",
              "      <td>0.000000</td>\n",
              "    </tr>\n",
              "  </tbody>\n",
              "</table>\n",
              "<p>101 rows × 5 columns</p>\n",
              "</div>\n",
              "    <div class=\"colab-df-buttons\">\n",
              "\n",
              "  <div class=\"colab-df-container\">\n",
              "    <button class=\"colab-df-convert\" onclick=\"convertToInteractive('df-5b1dcd76-d171-4947-9b08-e16aeaa25c48')\"\n",
              "            title=\"Convert this dataframe to an interactive table.\"\n",
              "            style=\"display:none;\">\n",
              "\n",
              "  <svg xmlns=\"http://www.w3.org/2000/svg\" height=\"24px\" viewBox=\"0 -960 960 960\">\n",
              "    <path d=\"M120-120v-720h720v720H120Zm60-500h600v-160H180v160Zm220 220h160v-160H400v160Zm0 220h160v-160H400v160ZM180-400h160v-160H180v160Zm440 0h160v-160H620v160ZM180-180h160v-160H180v160Zm440 0h160v-160H620v160Z\"/>\n",
              "  </svg>\n",
              "    </button>\n",
              "\n",
              "  <style>\n",
              "    .colab-df-container {\n",
              "      display:flex;\n",
              "      gap: 12px;\n",
              "    }\n",
              "\n",
              "    .colab-df-convert {\n",
              "      background-color: #E8F0FE;\n",
              "      border: none;\n",
              "      border-radius: 50%;\n",
              "      cursor: pointer;\n",
              "      display: none;\n",
              "      fill: #1967D2;\n",
              "      height: 32px;\n",
              "      padding: 0 0 0 0;\n",
              "      width: 32px;\n",
              "    }\n",
              "\n",
              "    .colab-df-convert:hover {\n",
              "      background-color: #E2EBFA;\n",
              "      box-shadow: 0px 1px 2px rgba(60, 64, 67, 0.3), 0px 1px 3px 1px rgba(60, 64, 67, 0.15);\n",
              "      fill: #174EA6;\n",
              "    }\n",
              "\n",
              "    .colab-df-buttons div {\n",
              "      margin-bottom: 4px;\n",
              "    }\n",
              "\n",
              "    [theme=dark] .colab-df-convert {\n",
              "      background-color: #3B4455;\n",
              "      fill: #D2E3FC;\n",
              "    }\n",
              "\n",
              "    [theme=dark] .colab-df-convert:hover {\n",
              "      background-color: #434B5C;\n",
              "      box-shadow: 0px 1px 3px 1px rgba(0, 0, 0, 0.15);\n",
              "      filter: drop-shadow(0px 1px 2px rgba(0, 0, 0, 0.3));\n",
              "      fill: #FFFFFF;\n",
              "    }\n",
              "  </style>\n",
              "\n",
              "    <script>\n",
              "      const buttonEl =\n",
              "        document.querySelector('#df-5b1dcd76-d171-4947-9b08-e16aeaa25c48 button.colab-df-convert');\n",
              "      buttonEl.style.display =\n",
              "        google.colab.kernel.accessAllowed ? 'block' : 'none';\n",
              "\n",
              "      async function convertToInteractive(key) {\n",
              "        const element = document.querySelector('#df-5b1dcd76-d171-4947-9b08-e16aeaa25c48');\n",
              "        const dataTable =\n",
              "          await google.colab.kernel.invokeFunction('convertToInteractive',\n",
              "                                                    [key], {});\n",
              "        if (!dataTable) return;\n",
              "\n",
              "        const docLinkHtml = 'Like what you see? Visit the ' +\n",
              "          '<a target=\"_blank\" href=https://colab.research.google.com/notebooks/data_table.ipynb>data table notebook</a>'\n",
              "          + ' to learn more about interactive tables.';\n",
              "        element.innerHTML = '';\n",
              "        dataTable['output_type'] = 'display_data';\n",
              "        await google.colab.output.renderOutput(dataTable, element);\n",
              "        const docLink = document.createElement('div');\n",
              "        docLink.innerHTML = docLinkHtml;\n",
              "        element.appendChild(docLink);\n",
              "      }\n",
              "    </script>\n",
              "  </div>\n",
              "\n",
              "\n",
              "<div id=\"df-1c3add97-4546-4809-800e-bb688eb82b6b\">\n",
              "  <button class=\"colab-df-quickchart\" onclick=\"quickchart('df-1c3add97-4546-4809-800e-bb688eb82b6b')\"\n",
              "            title=\"Suggest charts\"\n",
              "            style=\"display:none;\">\n",
              "\n",
              "<svg xmlns=\"http://www.w3.org/2000/svg\" height=\"24px\"viewBox=\"0 0 24 24\"\n",
              "     width=\"24px\">\n",
              "    <g>\n",
              "        <path d=\"M19 3H5c-1.1 0-2 .9-2 2v14c0 1.1.9 2 2 2h14c1.1 0 2-.9 2-2V5c0-1.1-.9-2-2-2zM9 17H7v-7h2v7zm4 0h-2V7h2v10zm4 0h-2v-4h2v4z\"/>\n",
              "    </g>\n",
              "</svg>\n",
              "  </button>\n",
              "\n",
              "<style>\n",
              "  .colab-df-quickchart {\n",
              "      --bg-color: #E8F0FE;\n",
              "      --fill-color: #1967D2;\n",
              "      --hover-bg-color: #E2EBFA;\n",
              "      --hover-fill-color: #174EA6;\n",
              "      --disabled-fill-color: #AAA;\n",
              "      --disabled-bg-color: #DDD;\n",
              "  }\n",
              "\n",
              "  [theme=dark] .colab-df-quickchart {\n",
              "      --bg-color: #3B4455;\n",
              "      --fill-color: #D2E3FC;\n",
              "      --hover-bg-color: #434B5C;\n",
              "      --hover-fill-color: #FFFFFF;\n",
              "      --disabled-bg-color: #3B4455;\n",
              "      --disabled-fill-color: #666;\n",
              "  }\n",
              "\n",
              "  .colab-df-quickchart {\n",
              "    background-color: var(--bg-color);\n",
              "    border: none;\n",
              "    border-radius: 50%;\n",
              "    cursor: pointer;\n",
              "    display: none;\n",
              "    fill: var(--fill-color);\n",
              "    height: 32px;\n",
              "    padding: 0;\n",
              "    width: 32px;\n",
              "  }\n",
              "\n",
              "  .colab-df-quickchart:hover {\n",
              "    background-color: var(--hover-bg-color);\n",
              "    box-shadow: 0 1px 2px rgba(60, 64, 67, 0.3), 0 1px 3px 1px rgba(60, 64, 67, 0.15);\n",
              "    fill: var(--button-hover-fill-color);\n",
              "  }\n",
              "\n",
              "  .colab-df-quickchart-complete:disabled,\n",
              "  .colab-df-quickchart-complete:disabled:hover {\n",
              "    background-color: var(--disabled-bg-color);\n",
              "    fill: var(--disabled-fill-color);\n",
              "    box-shadow: none;\n",
              "  }\n",
              "\n",
              "  .colab-df-spinner {\n",
              "    border: 2px solid var(--fill-color);\n",
              "    border-color: transparent;\n",
              "    border-bottom-color: var(--fill-color);\n",
              "    animation:\n",
              "      spin 1s steps(1) infinite;\n",
              "  }\n",
              "\n",
              "  @keyframes spin {\n",
              "    0% {\n",
              "      border-color: transparent;\n",
              "      border-bottom-color: var(--fill-color);\n",
              "      border-left-color: var(--fill-color);\n",
              "    }\n",
              "    20% {\n",
              "      border-color: transparent;\n",
              "      border-left-color: var(--fill-color);\n",
              "      border-top-color: var(--fill-color);\n",
              "    }\n",
              "    30% {\n",
              "      border-color: transparent;\n",
              "      border-left-color: var(--fill-color);\n",
              "      border-top-color: var(--fill-color);\n",
              "      border-right-color: var(--fill-color);\n",
              "    }\n",
              "    40% {\n",
              "      border-color: transparent;\n",
              "      border-right-color: var(--fill-color);\n",
              "      border-top-color: var(--fill-color);\n",
              "    }\n",
              "    60% {\n",
              "      border-color: transparent;\n",
              "      border-right-color: var(--fill-color);\n",
              "    }\n",
              "    80% {\n",
              "      border-color: transparent;\n",
              "      border-right-color: var(--fill-color);\n",
              "      border-bottom-color: var(--fill-color);\n",
              "    }\n",
              "    90% {\n",
              "      border-color: transparent;\n",
              "      border-bottom-color: var(--fill-color);\n",
              "    }\n",
              "  }\n",
              "</style>\n",
              "\n",
              "  <script>\n",
              "    async function quickchart(key) {\n",
              "      const quickchartButtonEl =\n",
              "        document.querySelector('#' + key + ' button');\n",
              "      quickchartButtonEl.disabled = true;  // To prevent multiple clicks.\n",
              "      quickchartButtonEl.classList.add('colab-df-spinner');\n",
              "      try {\n",
              "        const charts = await google.colab.kernel.invokeFunction(\n",
              "            'suggestCharts', [key], {});\n",
              "      } catch (error) {\n",
              "        console.error('Error during call to suggestCharts:', error);\n",
              "      }\n",
              "      quickchartButtonEl.classList.remove('colab-df-spinner');\n",
              "      quickchartButtonEl.classList.add('colab-df-quickchart-complete');\n",
              "    }\n",
              "    (() => {\n",
              "      let quickchartButtonEl =\n",
              "        document.querySelector('#df-1c3add97-4546-4809-800e-bb688eb82b6b button');\n",
              "      quickchartButtonEl.style.display =\n",
              "        google.colab.kernel.accessAllowed ? 'block' : 'none';\n",
              "    })();\n",
              "  </script>\n",
              "</div>\n",
              "    </div>\n",
              "  </div>\n"
            ]
          },
          "metadata": {},
          "execution_count": 26
        }
      ]
    },
    {
      "cell_type": "code",
      "source": [
        "plot_roc(entropy_mnist_test, entropy_fmnist)"
      ],
      "metadata": {
        "colab": {
          "base_uri": "https://localhost:8080/",
          "height": 449
        },
        "id": "9IddJFk_P3Hj",
        "outputId": "e21fd467-4f74-4123-f8e3-c448e9c35cbd"
      },
      "execution_count": null,
      "outputs": [
        {
          "output_type": "display_data",
          "data": {
            "text/plain": [
              "<Figure size 640x480 with 1 Axes>"
            ],
            "image/png": "[encoded data removed]"
          },
          "metadata": {}
        }
      ]
    },
    {
      "cell_type": "markdown",
      "source": [
        "Note: an AUC < 0.5 actually is a good value. Since we have a binary classifier, if it behaves worse than random chance, we can just swap the predictions (i.e., a 0 becomes a 1 and vice versa) to transform it into a \"better\" predictor. If we do this, the AUC is 1-0.31 which equates to 0.69, the same result we got by using confidence as the probability associated to the highest prediction."
      ],
      "metadata": {
        "id": "jDdfCgwA0Aby"
      }
    },
    {
      "cell_type": "markdown",
      "metadata": {
        "id": "P5J9KcoUtLSl"
      },
      "source": [
        "## Switch to a Bayesian model\n",
        "\n",
        "We have seen that the deterministic NN is unable to effectively tell apart ID and OOD, despite the confidence of the OOD data having a distribution more skewed toward smaller values w.r.t. the ID data.\n",
        "\n",
        "We can repeat the experiment with a BNN and see if this model is more effective at detecting OOD data."
      ]
    },
    {
      "cell_type": "code",
      "execution_count": null,
      "metadata": {
        "id": "-4jeDbJzvOxk"
      },
      "outputs": [],
      "source": [
        "def ensemble_component_initializer():\n",
        "    model = keras.Sequential([\n",
        "        keras.layers.Input((28, 28, 1)), # data as image: heigth x width x channels. MNIST is grayscale » 1 channel\n",
        "        keras.layers.Flatten(),\n",
        "        keras.layers.Dense(16, activation=\"relu\"),\n",
        "        keras.layers.Dense(16, activation=\"relu\"),\n",
        "        keras.layers.Dense(10),\n",
        "        keras.layers.Activation(\"softmax\")\n",
        "    ])\n",
        "\n",
        "    model.compile(optimizer=\"adam\", loss=\"categorical_crossentropy\", metrics=[\"accuracy\"])\n",
        "\n",
        "    return model\n",
        "\n",
        "n_components = 5\n",
        "n_epochs = 15\n",
        "\n",
        "ensemble = ku.models.DeepEnsembleClassifier(ensemble_component_initializer, num_estimators=n_components)\n",
        "# Uncomment to train\n",
        "# ensemble.fit(x, y, epochs=n_epochs)"
      ]
    },
    {
      "cell_type": "code",
      "source": [
        "# Uncomment to load files\n",
        "# from google.colab import files\n",
        "\n",
        "# ensemble.save_weights(\"mnist_ensemble.keras\")\n",
        "# !zip -r mnist_ensemble.zip mnist_ensemble.keras\n",
        "# files.download(\"mnist_ensemble.zip\")"
      ],
      "metadata": {
        "colab": {
          "base_uri": "https://localhost:8080/",
          "height": 225
        },
        "id": "mIddJLx9371z",
        "outputId": "cb04bf5f-5f98-4612-9b40-221d2108c283"
      },
      "execution_count": null,
      "outputs": [
        {
          "output_type": "stream",
          "name": "stdout",
          "text": [
            "Saved estimator weights 0 to mnist_ensemble.keras/ensemble-weights-0.hdf5\n",
            "Saved estimator weights 1 to mnist_ensemble.keras/ensemble-weights-1.hdf5\n",
            "Saved estimator weights 2 to mnist_ensemble.keras/ensemble-weights-2.hdf5\n",
            "Saved estimator weights 3 to mnist_ensemble.keras/ensemble-weights-3.hdf5\n",
            "Saved estimator weights 4 to mnist_ensemble.keras/ensemble-weights-4.hdf5\n",
            "  adding: mnist_ensemble.keras/ (stored 0%)\n",
            "  adding: mnist_ensemble.keras/ensemble-weights-1.hdf5 (deflated 27%)\n",
            "  adding: mnist_ensemble.keras/ensemble-weights-3.hdf5 (deflated 27%)\n",
            "  adding: mnist_ensemble.keras/ensemble-weights-2.hdf5 (deflated 27%)\n",
            "  adding: mnist_ensemble.keras/metadata.yml (deflated 59%)\n",
            "  adding: mnist_ensemble.keras/ensemble-weights-0.hdf5 (deflated 27%)\n",
            "  adding: mnist_ensemble.keras/ensemble-weights-4.hdf5 (deflated 27%)\n"
          ]
        },
        {
          "output_type": "display_data",
          "data": {
            "text/plain": [
              "<IPython.core.display.Javascript object>"
            ],
            "application/javascript": [
              "\n",
              "    async function download(id, filename, size) {\n",
              "      if (!google.colab.kernel.accessAllowed) {\n",
              "        return;\n",
              "      }\n",
              "      const div = document.createElement('div');\n",
              "      const label = document.createElement('label');\n",
              "      label.textContent = `Downloading \"${filename}\": `;\n",
              "      div.appendChild(label);\n",
              "      const progress = document.createElement('progress');\n",
              "      progress.max = size;\n",
              "      div.appendChild(progress);\n",
              "      document.body.appendChild(div);\n",
              "\n",
              "      const buffers = [];\n",
              "      let downloaded = 0;\n",
              "\n",
              "      const channel = await google.colab.kernel.comms.open(id);\n",
              "      // Send a message to notify the kernel that we're ready.\n",
              "      channel.send({})\n",
              "\n",
              "      for await (const message of channel.messages) {\n",
              "        // Send a message to notify the kernel that we're ready.\n",
              "        channel.send({})\n",
              "        if (message.buffers) {\n",
              "          for (const buffer of message.buffers) {\n",
              "            buffers.push(buffer);\n",
              "            downloaded += buffer.byteLength;\n",
              "            progress.value = downloaded;\n",
              "          }\n",
              "        }\n",
              "      }\n",
              "      const blob = new Blob(buffers, {type: 'application/binary'});\n",
              "      const a = document.createElement('a');\n",
              "      a.href = window.URL.createObjectURL(blob);\n",
              "      a.download = filename;\n",
              "      div.appendChild(a);\n",
              "      a.click();\n",
              "      div.remove();\n",
              "    }\n",
              "  "
            ]
          },
          "metadata": {}
        },
        {
          "output_type": "display_data",
          "data": {
            "text/plain": [
              "<IPython.core.display.Javascript object>"
            ],
            "application/javascript": [
              "download(\"download_b33f8bec-3436-4a2a-8170-3f85c1090b9a\", \"mnist_ensemble.zip\", 251836)"
            ]
          },
          "metadata": {}
        }
      ]
    },
    {
      "cell_type": "code",
      "source": [
        "download_weights(\"https://www.zullich.it/misc/mnist_ensemble.zip\", \"mnist_ensemble.zip\")\n",
        "!unzip \"mnist_ensemble.zip\"\n",
        "ensemble.load_weights(\"mnist_ensemble.keras\")"
      ],
      "metadata": {
        "colab": {
          "base_uri": "https://localhost:8080/"
        },
        "id": "mxfGdo0SHhKM",
        "outputId": "52a4c480-19bd-4c26-bf55-0abcdf18d609"
      },
      "execution_count": null,
      "outputs": [
        {
          "output_type": "stream",
          "name": "stdout",
          "text": [
            "Archive:  mnist_ensemble.zip\n",
            "   creating: mnist_ensemble.keras/\n",
            "  inflating: mnist_ensemble.keras/ensemble-weights-1.hdf5  \n",
            "  inflating: mnist_ensemble.keras/ensemble-weights-3.hdf5  \n",
            "  inflating: mnist_ensemble.keras/ensemble-weights-2.hdf5  \n",
            "  inflating: mnist_ensemble.keras/metadata.yml  \n",
            "  inflating: mnist_ensemble.keras/ensemble-weights-0.hdf5  \n",
            "  inflating: mnist_ensemble.keras/ensemble-weights-4.hdf5  \n"
          ]
        }
      ]
    },
    {
      "cell_type": "code",
      "execution_count": null,
      "metadata": {
        "id": "52cvmkH6MHqe"
      },
      "outputs": [],
      "source": [
        "mnist_test_predictions_bnn = ensemble.predict(x_test)"
      ]
    },
    {
      "cell_type": "code",
      "source": [
        "fmnist_test_predictions_bnn = ensemble.predict(x_ood)"
      ],
      "metadata": {
        "id": "ppQWR3u7F-tv"
      },
      "execution_count": null,
      "outputs": []
    },
    {
      "cell_type": "markdown",
      "metadata": {
        "id": "1XIZahiCPleT"
      },
      "source": [
        "As we did with the deterministic model, we define the confidence as the maximum value of probability associated with the predicted class.\n",
        "\n",
        "**Q: _what is the difference in the predictions between the deterministic and the Bayesian model (`mnist_test_predictions` vs `mnist_test_predictions_bnn`)?_**\n",
        "\n",
        "Answer: the former is just point predictions, the latter is averages from multiple samples."
      ]
    },
    {
      "cell_type": "code",
      "execution_count": null,
      "metadata": {
        "id": "t66MpAR9QY_W"
      },
      "outputs": [],
      "source": [
        "mnist_confidence_bnn = mnist_test_predictions_bnn.max(1)\n",
        "fmnist_confidence_bnn = fmnist_test_predictions_bnn.max(1)"
      ]
    },
    {
      "cell_type": "markdown",
      "metadata": {
        "id": "aBMZ5krgQYi1"
      },
      "source": [
        "Again, as we did before, we define the `ood_label` to treat as ground truth, create a single vector for the confidence levels, and analyze the accuracy and F1-scores."
      ]
    },
    {
      "cell_type": "code",
      "execution_count": null,
      "metadata": {
        "id": "YUFKly0uUgaY"
      },
      "outputs": [],
      "source": [
        "ood_label = np.concatenate([\n",
        "    np.zeros_like(mnist_confidence_bnn),\n",
        "    np.ones_like(fmnist_confidence_bnn)\n",
        "])\n",
        "confidence_bnn = np.concatenate([\n",
        "    mnist_confidence_bnn, fmnist_confidence_bnn\n",
        "])"
      ]
    },
    {
      "cell_type": "code",
      "execution_count": null,
      "metadata": {
        "colab": {
          "base_uri": "https://localhost:8080/",
          "height": 423
        },
        "id": "WEW5hXh76Gdr",
        "outputId": "a2f84289-4b93-4bad-d099-cffd43a68b4a"
      },
      "outputs": [
        {
          "output_type": "execute_result",
          "data": {
            "text/plain": [
              "     threshold  accuracy  accuracy_id  accuracy_ood  f1_score\n",
              "0         0.00   0.50000       1.0000        0.0000  0.000000\n",
              "1         0.01   0.50000       1.0000        0.0000  0.000000\n",
              "2         0.02   0.50000       1.0000        0.0000  0.000000\n",
              "3         0.03   0.50000       1.0000        0.0000  0.000000\n",
              "4         0.04   0.50000       1.0000        0.0000  0.000000\n",
              "..         ...       ...          ...           ...       ...\n",
              "96        0.96   0.79850       0.7984        0.7986  0.798520\n",
              "97        0.97   0.79050       0.7735        0.8075  0.794002\n",
              "98        0.98   0.77665       0.7329        0.8204  0.786012\n",
              "99        0.99   0.74995       0.6606        0.8393  0.770459\n",
              "100       1.00   0.49800       0.0007        0.9953  0.664730\n",
              "\n",
              "[101 rows x 5 columns]"
            ],
            "text/html": [
              "\n",
              "  <div id=\"df-9bac9f09-7086-4d6e-9aa3-d85de0e0ae90\" class=\"colab-df-container\">\n",
              "    <div>\n",
              "<style scoped>\n",
              "    .dataframe tbody tr th:only-of-type {\n",
              "        vertical-align: middle;\n",
              "    }\n",
              "\n",
              "    .dataframe tbody tr th {\n",
              "        vertical-align: top;\n",
              "    }\n",
              "\n",
              "    .dataframe thead th {\n",
              "        text-align: right;\n",
              "    }\n",
              "</style>\n",
              "<table border=\"1\" class=\"dataframe\">\n",
              "  <thead>\n",
              "    <tr style=\"text-align: right;\">\n",
              "      <th></th>\n",
              "      <th>threshold</th>\n",
              "      <th>accuracy</th>\n",
              "      <th>accuracy_id</th>\n",
              "      <th>accuracy_ood</th>\n",
              "      <th>f1_score</th>\n",
              "    </tr>\n",
              "  </thead>\n",
              "  <tbody>\n",
              "    <tr>\n",
              "      <th>0</th>\n",
              "      <td>0.00</td>\n",
              "      <td>0.50000</td>\n",
              "      <td>1.0000</td>\n",
              "      <td>0.0000</td>\n",
              "      <td>0.000000</td>\n",
              "    </tr>\n",
              "    <tr>\n",
              "      <th>1</th>\n",
              "      <td>0.01</td>\n",
              "      <td>0.50000</td>\n",
              "      <td>1.0000</td>\n",
              "      <td>0.0000</td>\n",
              "      <td>0.000000</td>\n",
              "    </tr>\n",
              "    <tr>\n",
              "      <th>2</th>\n",
              "      <td>0.02</td>\n",
              "      <td>0.50000</td>\n",
              "      <td>1.0000</td>\n",
              "      <td>0.0000</td>\n",
              "      <td>0.000000</td>\n",
              "    </tr>\n",
              "    <tr>\n",
              "      <th>3</th>\n",
              "      <td>0.03</td>\n",
              "      <td>0.50000</td>\n",
              "      <td>1.0000</td>\n",
              "      <td>0.0000</td>\n",
              "      <td>0.000000</td>\n",
              "    </tr>\n",
              "    <tr>\n",
              "      <th>4</th>\n",
              "      <td>0.04</td>\n",
              "      <td>0.50000</td>\n",
              "      <td>1.0000</td>\n",
              "      <td>0.0000</td>\n",
              "      <td>0.000000</td>\n",
              "    </tr>\n",
              "    <tr>\n",
              "      <th>...</th>\n",
              "      <td>...</td>\n",
              "      <td>...</td>\n",
              "      <td>...</td>\n",
              "      <td>...</td>\n",
              "      <td>...</td>\n",
              "    </tr>\n",
              "    <tr>\n",
              "      <th>96</th>\n",
              "      <td>0.96</td>\n",
              "      <td>0.79850</td>\n",
              "      <td>0.7984</td>\n",
              "      <td>0.7986</td>\n",
              "      <td>0.798520</td>\n",
              "    </tr>\n",
              "    <tr>\n",
              "      <th>97</th>\n",
              "      <td>0.97</td>\n",
              "      <td>0.79050</td>\n",
              "      <td>0.7735</td>\n",
              "      <td>0.8075</td>\n",
              "      <td>0.794002</td>\n",
              "    </tr>\n",
              "    <tr>\n",
              "      <th>98</th>\n",
              "      <td>0.98</td>\n",
              "      <td>0.77665</td>\n",
              "      <td>0.7329</td>\n",
              "      <td>0.8204</td>\n",
              "      <td>0.786012</td>\n",
              "    </tr>\n",
              "    <tr>\n",
              "      <th>99</th>\n",
              "      <td>0.99</td>\n",
              "      <td>0.74995</td>\n",
              "      <td>0.6606</td>\n",
              "      <td>0.8393</td>\n",
              "      <td>0.770459</td>\n",
              "    </tr>\n",
              "    <tr>\n",
              "      <th>100</th>\n",
              "      <td>1.00</td>\n",
              "      <td>0.49800</td>\n",
              "      <td>0.0007</td>\n",
              "      <td>0.9953</td>\n",
              "      <td>0.664730</td>\n",
              "    </tr>\n",
              "  </tbody>\n",
              "</table>\n",
              "<p>101 rows × 5 columns</p>\n",
              "</div>\n",
              "    <div class=\"colab-df-buttons\">\n",
              "\n",
              "  <div class=\"colab-df-container\">\n",
              "    <button class=\"colab-df-convert\" onclick=\"convertToInteractive('df-9bac9f09-7086-4d6e-9aa3-d85de0e0ae90')\"\n",
              "            title=\"Convert this dataframe to an interactive table.\"\n",
              "            style=\"display:none;\">\n",
              "\n",
              "  <svg xmlns=\"http://www.w3.org/2000/svg\" height=\"24px\" viewBox=\"0 -960 960 960\">\n",
              "    <path d=\"M120-120v-720h720v720H120Zm60-500h600v-160H180v160Zm220 220h160v-160H400v160Zm0 220h160v-160H400v160ZM180-400h160v-160H180v160Zm440 0h160v-160H620v160ZM180-180h160v-160H180v160Zm440 0h160v-160H620v160Z\"/>\n",
              "  </svg>\n",
              "    </button>\n",
              "\n",
              "  <style>\n",
              "    .colab-df-container {\n",
              "      display:flex;\n",
              "      gap: 12px;\n",
              "    }\n",
              "\n",
              "    .colab-df-convert {\n",
              "      background-color: #E8F0FE;\n",
              "      border: none;\n",
              "      border-radius: 50%;\n",
              "      cursor: pointer;\n",
              "      display: none;\n",
              "      fill: #1967D2;\n",
              "      height: 32px;\n",
              "      padding: 0 0 0 0;\n",
              "      width: 32px;\n",
              "    }\n",
              "\n",
              "    .colab-df-convert:hover {\n",
              "      background-color: #E2EBFA;\n",
              "      box-shadow: 0px 1px 2px rgba(60, 64, 67, 0.3), 0px 1px 3px 1px rgba(60, 64, 67, 0.15);\n",
              "      fill: #174EA6;\n",
              "    }\n",
              "\n",
              "    .colab-df-buttons div {\n",
              "      margin-bottom: 4px;\n",
              "    }\n",
              "\n",
              "    [theme=dark] .colab-df-convert {\n",
              "      background-color: #3B4455;\n",
              "      fill: #D2E3FC;\n",
              "    }\n",
              "\n",
              "    [theme=dark] .colab-df-convert:hover {\n",
              "      background-color: #434B5C;\n",
              "      box-shadow: 0px 1px 3px 1px rgba(0, 0, 0, 0.15);\n",
              "      filter: drop-shadow(0px 1px 2px rgba(0, 0, 0, 0.3));\n",
              "      fill: #FFFFFF;\n",
              "    }\n",
              "  </style>\n",
              "\n",
              "    <script>\n",
              "      const buttonEl =\n",
              "        document.querySelector('#df-9bac9f09-7086-4d6e-9aa3-d85de0e0ae90 button.colab-df-convert');\n",
              "      buttonEl.style.display =\n",
              "        google.colab.kernel.accessAllowed ? 'block' : 'none';\n",
              "\n",
              "      async function convertToInteractive(key) {\n",
              "        const element = document.querySelector('#df-9bac9f09-7086-4d6e-9aa3-d85de0e0ae90');\n",
              "        const dataTable =\n",
              "          await google.colab.kernel.invokeFunction('convertToInteractive',\n",
              "                                                    [key], {});\n",
              "        if (!dataTable) return;\n",
              "\n",
              "        const docLinkHtml = 'Like what you see? Visit the ' +\n",
              "          '<a target=\"_blank\" href=https://colab.research.google.com/notebooks/data_table.ipynb>data table notebook</a>'\n",
              "          + ' to learn more about interactive tables.';\n",
              "        element.innerHTML = '';\n",
              "        dataTable['output_type'] = 'display_data';\n",
              "        await google.colab.output.renderOutput(dataTable, element);\n",
              "        const docLink = document.createElement('div');\n",
              "        docLink.innerHTML = docLinkHtml;\n",
              "        element.appendChild(docLink);\n",
              "      }\n",
              "    </script>\n",
              "  </div>\n",
              "\n",
              "\n",
              "<div id=\"df-e159bb61-a741-4a4c-9e89-364f69fd969e\">\n",
              "  <button class=\"colab-df-quickchart\" onclick=\"quickchart('df-e159bb61-a741-4a4c-9e89-364f69fd969e')\"\n",
              "            title=\"Suggest charts\"\n",
              "            style=\"display:none;\">\n",
              "\n",
              "<svg xmlns=\"http://www.w3.org/2000/svg\" height=\"24px\"viewBox=\"0 0 24 24\"\n",
              "     width=\"24px\">\n",
              "    <g>\n",
              "        <path d=\"M19 3H5c-1.1 0-2 .9-2 2v14c0 1.1.9 2 2 2h14c1.1 0 2-.9 2-2V5c0-1.1-.9-2-2-2zM9 17H7v-7h2v7zm4 0h-2V7h2v10zm4 0h-2v-4h2v4z\"/>\n",
              "    </g>\n",
              "</svg>\n",
              "  </button>\n",
              "\n",
              "<style>\n",
              "  .colab-df-quickchart {\n",
              "      --bg-color: #E8F0FE;\n",
              "      --fill-color: #1967D2;\n",
              "      --hover-bg-color: #E2EBFA;\n",
              "      --hover-fill-color: #174EA6;\n",
              "      --disabled-fill-color: #AAA;\n",
              "      --disabled-bg-color: #DDD;\n",
              "  }\n",
              "\n",
              "  [theme=dark] .colab-df-quickchart {\n",
              "      --bg-color: #3B4455;\n",
              "      --fill-color: #D2E3FC;\n",
              "      --hover-bg-color: #434B5C;\n",
              "      --hover-fill-color: #FFFFFF;\n",
              "      --disabled-bg-color: #3B4455;\n",
              "      --disabled-fill-color: #666;\n",
              "  }\n",
              "\n",
              "  .colab-df-quickchart {\n",
              "    background-color: var(--bg-color);\n",
              "    border: none;\n",
              "    border-radius: 50%;\n",
              "    cursor: pointer;\n",
              "    display: none;\n",
              "    fill: var(--fill-color);\n",
              "    height: 32px;\n",
              "    padding: 0;\n",
              "    width: 32px;\n",
              "  }\n",
              "\n",
              "  .colab-df-quickchart:hover {\n",
              "    background-color: var(--hover-bg-color);\n",
              "    box-shadow: 0 1px 2px rgba(60, 64, 67, 0.3), 0 1px 3px 1px rgba(60, 64, 67, 0.15);\n",
              "    fill: var(--button-hover-fill-color);\n",
              "  }\n",
              "\n",
              "  .colab-df-quickchart-complete:disabled,\n",
              "  .colab-df-quickchart-complete:disabled:hover {\n",
              "    background-color: var(--disabled-bg-color);\n",
              "    fill: var(--disabled-fill-color);\n",
              "    box-shadow: none;\n",
              "  }\n",
              "\n",
              "  .colab-df-spinner {\n",
              "    border: 2px solid var(--fill-color);\n",
              "    border-color: transparent;\n",
              "    border-bottom-color: var(--fill-color);\n",
              "    animation:\n",
              "      spin 1s steps(1) infinite;\n",
              "  }\n",
              "\n",
              "  @keyframes spin {\n",
              "    0% {\n",
              "      border-color: transparent;\n",
              "      border-bottom-color: var(--fill-color);\n",
              "      border-left-color: var(--fill-color);\n",
              "    }\n",
              "    20% {\n",
              "      border-color: transparent;\n",
              "      border-left-color: var(--fill-color);\n",
              "      border-top-color: var(--fill-color);\n",
              "    }\n",
              "    30% {\n",
              "      border-color: transparent;\n",
              "      border-left-color: var(--fill-color);\n",
              "      border-top-color: var(--fill-color);\n",
              "      border-right-color: var(--fill-color);\n",
              "    }\n",
              "    40% {\n",
              "      border-color: transparent;\n",
              "      border-right-color: var(--fill-color);\n",
              "      border-top-color: var(--fill-color);\n",
              "    }\n",
              "    60% {\n",
              "      border-color: transparent;\n",
              "      border-right-color: var(--fill-color);\n",
              "    }\n",
              "    80% {\n",
              "      border-color: transparent;\n",
              "      border-right-color: var(--fill-color);\n",
              "      border-bottom-color: var(--fill-color);\n",
              "    }\n",
              "    90% {\n",
              "      border-color: transparent;\n",
              "      border-bottom-color: var(--fill-color);\n",
              "    }\n",
              "  }\n",
              "</style>\n",
              "\n",
              "  <script>\n",
              "    async function quickchart(key) {\n",
              "      const quickchartButtonEl =\n",
              "        document.querySelector('#' + key + ' button');\n",
              "      quickchartButtonEl.disabled = true;  // To prevent multiple clicks.\n",
              "      quickchartButtonEl.classList.add('colab-df-spinner');\n",
              "      try {\n",
              "        const charts = await google.colab.kernel.invokeFunction(\n",
              "            'suggestCharts', [key], {});\n",
              "      } catch (error) {\n",
              "        console.error('Error during call to suggestCharts:', error);\n",
              "      }\n",
              "      quickchartButtonEl.classList.remove('colab-df-spinner');\n",
              "      quickchartButtonEl.classList.add('colab-df-quickchart-complete');\n",
              "    }\n",
              "    (() => {\n",
              "      let quickchartButtonEl =\n",
              "        document.querySelector('#df-e159bb61-a741-4a4c-9e89-364f69fd969e button');\n",
              "      quickchartButtonEl.style.display =\n",
              "        google.colab.kernel.accessAllowed ? 'block' : 'none';\n",
              "    })();\n",
              "  </script>\n",
              "</div>\n",
              "    </div>\n",
              "  </div>\n"
            ]
          },
          "metadata": {},
          "execution_count": 20
        }
      ],
      "source": [
        "ood_detection_scores(mnist_confidence_bnn, fmnist_confidence_bnn)"
      ]
    },
    {
      "cell_type": "markdown",
      "metadata": {
        "id": "SuBrF9pm6GPf"
      },
      "source": [
        "And we compute the ROC and calculate the AUROC\n"
      ]
    },
    {
      "cell_type": "code",
      "execution_count": null,
      "metadata": {
        "colab": {
          "base_uri": "https://localhost:8080/",
          "height": 449
        },
        "id": "vF29Ye01Om0x",
        "outputId": "d8778acd-8419-4c99-ce19-c8a4496d6585"
      },
      "outputs": [
        {
          "output_type": "display_data",
          "data": {
            "text/plain": [
              "<Figure size 640x480 with 1 Axes>"
            ],
            "image/png": "[encoded data removed]"
          },
          "metadata": {}
        }
      ],
      "source": [
        "plot_roc(mnist_confidence_bnn, fmnist_confidence_bnn)"
      ]
    },
    {
      "cell_type": "markdown",
      "metadata": {
        "id": "FuzkLT6TRKMU"
      },
      "source": [
        "We can also visualize the difference with the boxplots, as we did before"
      ]
    },
    {
      "cell_type": "code",
      "execution_count": null,
      "metadata": {
        "colab": {
          "base_uri": "https://localhost:8080/",
          "height": 453
        },
        "id": "VM_epHS3VJH9",
        "outputId": "445e5eea-4ae4-4f48-c157-5914a23164dd"
      },
      "outputs": [
        {
          "output_type": "execute_result",
          "data": {
            "text/plain": [
              "(0.0, 1.0)"
            ]
          },
          "metadata": {},
          "execution_count": 36
        },
        {
          "output_type": "display_data",
          "data": {
            "text/plain": [
              "<Figure size 640x480 with 1 Axes>"
            ],
            "image/png": "[encoded data removed]"
          },
          "metadata": {}
        }
      ],
      "source": [
        "_ = plt.boxplot([mnist_confidence_bnn, fmnist_confidence_bnn])\n",
        "plt.ylim((0,1))"
      ]
    },
    {
      "cell_type": "markdown",
      "source": [
        "**Your task**: repeat this analysis with entropy. Does something change in the metrics for OOD detection?"
      ],
      "metadata": {
        "id": "SK7ZEMVDQxt1"
      }
    },
    {
      "cell_type": "markdown",
      "metadata": {
        "id": "KLxOWts1RSH4"
      },
      "source": [
        "## Other datasets\n",
        "\n",
        "We will still look at the OOD capability of our ensemble on two other datasets:\n",
        "\n",
        "* randomly generated data (we have seen that the frequentist model performed really bad on random data)\n",
        "* K-MNIST (K-MNIST is a version of MNIST which replaces digits with Japanese Hiragana characters, which are semantically more similar than the clothing items from Fashion-MNIST)"
      ]
    },
    {
      "cell_type": "markdown",
      "source": [
        "### Random data\n",
        "\n",
        "We generate the random data by sampling from a *standard* [0,1] uniform distribution, which corresponds to the same domain as MNIST"
      ],
      "metadata": {
        "id": "WeltVCqlMzu2"
      }
    },
    {
      "cell_type": "code",
      "source": [
        "random_data = np.random.rand(1000, 28, 28, 1)\n",
        "\n",
        "random_data_mlp_predictions = model_mnist.predict(random_data)\n",
        "random_data_ensemble_predictions = ensemble.predict(random_data)"
      ],
      "metadata": {
        "colab": {
          "base_uri": "https://localhost:8080/"
        },
        "id": "Xys0XpTGJq5X",
        "outputId": "2e4ed777-2468-454b-cda6-e9b6af93cb74"
      },
      "execution_count": null,
      "outputs": [
        {
          "output_type": "stream",
          "name": "stdout",
          "text": [
            "32/32 [==============================] - 0s 3ms/step\n"
          ]
        }
      ]
    },
    {
      "cell_type": "code",
      "source": [
        "random_data_mlp_confidence = random_data_mlp_predictions.max(1)\n",
        "random_data_ensemble_confidence = random_data_ensemble_predictions.max(1)"
      ],
      "metadata": {
        "id": "xM7r2bgUNeit"
      },
      "execution_count": null,
      "outputs": []
    },
    {
      "cell_type": "code",
      "source": [
        "_ = plt.boxplot([mnist_test_confidence, random_data_mlp_confidence])"
      ],
      "metadata": {
        "colab": {
          "base_uri": "https://localhost:8080/",
          "height": 430
        },
        "id": "eANDEKaLNyKv",
        "outputId": "5a1a1aca-0dba-4f4f-dd61-27f9f75a681a"
      },
      "execution_count": null,
      "outputs": [
        {
          "output_type": "display_data",
          "data": {
            "text/plain": [
              "<Figure size 640x480 with 1 Axes>"
            ],
            "image/png": "[encoded data removed]"
          },
          "metadata": {}
        }
      ]
    },
    {
      "cell_type": "code",
      "source": [
        "_ = plt.boxplot([mnist_confidence_bnn, random_data_ensemble_confidence])"
      ],
      "metadata": {
        "colab": {
          "base_uri": "https://localhost:8080/",
          "height": 430
        },
        "id": "AJYtkHHWNroo",
        "outputId": "2b7d06eb-9747-4bac-990b-05bd6cb09533"
      },
      "execution_count": null,
      "outputs": [
        {
          "output_type": "display_data",
          "data": {
            "text/plain": [
              "<Figure size 640x480 with 1 Axes>"
            ],
            "image/png": "[encoded data removed]"
          },
          "metadata": {}
        }
      ]
    },
    {
      "cell_type": "code",
      "source": [
        "plot_roc(mnist_test_confidence, random_data_mlp_confidence)"
      ],
      "metadata": {
        "colab": {
          "base_uri": "https://localhost:8080/",
          "height": 449
        },
        "id": "qVXbEFZtOQ9c",
        "outputId": "a82d8c5c-6006-433b-e78f-b4440ea68325"
      },
      "execution_count": null,
      "outputs": [
        {
          "output_type": "display_data",
          "data": {
            "text/plain": [
              "<Figure size 640x480 with 1 Axes>"
            ],
            "image/png": "[encoded data removed]"
          },
          "metadata": {}
        }
      ]
    },
    {
      "cell_type": "code",
      "source": [
        "plot_roc(mnist_confidence_bnn, random_data_ensemble_confidence)"
      ],
      "metadata": {
        "colab": {
          "base_uri": "https://localhost:8080/",
          "height": 449
        },
        "id": "5Q2xoiP6OLit",
        "outputId": "8afc3cad-caba-48a8-95ca-37ac0a78db67"
      },
      "execution_count": null,
      "outputs": [
        {
          "output_type": "display_data",
          "data": {
            "text/plain": [
              "<Figure size 640x480 with 1 Axes>"
            ],
            "image/png": "[encoded data removed]"
          },
          "metadata": {}
        }
      ]
    },
    {
      "cell_type": "markdown",
      "source": [
        "### K-MNIST"
      ],
      "metadata": {
        "id": "6x33lmXjOZ5Y"
      }
    },
    {
      "cell_type": "code",
      "source": [
        "kmnist = tfds.load('kmnist', split='test', shuffle_files=False)\n",
        "kmnist = np.array([data[\"image\"] for data in list(kmnist)])\n",
        "\n",
        "kmnist = kmnist.astype(np.float32) / 255"
      ],
      "metadata": {
        "id": "asPKuUpWOcRx"
      },
      "execution_count": null,
      "outputs": []
    },
    {
      "cell_type": "code",
      "source": [
        "kmnist_mlp_predictions = model_mnist.predict(kmnist)\n",
        "kmnist_ensemble_predictions = ensemble.predict(kmnist)\n",
        "\n",
        "kmnist_mlp_confidence = kmnist_mlp_predictions.max(1)\n",
        "kmnist_ensemble_confidence = kmnist_ensemble_predictions.max(1)"
      ],
      "metadata": {
        "colab": {
          "base_uri": "https://localhost:8080/"
        },
        "id": "wntGcge2Qpf0",
        "outputId": "9b0fbe49-291f-4fc6-f106-c74005ebf659"
      },
      "execution_count": null,
      "outputs": [
        {
          "output_type": "stream",
          "name": "stdout",
          "text": [
            "313/313 [==============================] - 1s 4ms/step\n"
          ]
        }
      ]
    },
    {
      "cell_type": "code",
      "source": [
        "_ = plt.boxplot([mnist_test_confidence, kmnist_mlp_confidence])"
      ],
      "metadata": {
        "colab": {
          "base_uri": "https://localhost:8080/",
          "height": 430
        },
        "id": "wpIubb7JQ71v",
        "outputId": "622919c7-6142-4a5f-9658-afcf3c63fbf3"
      },
      "execution_count": null,
      "outputs": [
        {
          "output_type": "display_data",
          "data": {
            "text/plain": [
              "<Figure size 640x480 with 1 Axes>"
            ],
            "image/png": "[encoded data removed]"
          },
          "metadata": {}
        }
      ]
    },
    {
      "cell_type": "code",
      "source": [
        "_ = plt.boxplot([mnist_confidence_bnn, kmnist_ensemble_confidence])"
      ],
      "metadata": {
        "colab": {
          "base_uri": "https://localhost:8080/",
          "height": 430
        },
        "id": "7aTSQhH9RAtO",
        "outputId": "adaca917-66e9-498a-c79e-0b9ab25673a1"
      },
      "execution_count": null,
      "outputs": [
        {
          "output_type": "display_data",
          "data": {
            "text/plain": [
              "<Figure size 640x480 with 1 Axes>"
            ],
            "image/png": "[encoded data removed]"
          },
          "metadata": {}
        }
      ]
    },
    {
      "cell_type": "code",
      "source": [
        "plot_roc(mnist_test_confidence, kmnist_mlp_confidence)"
      ],
      "metadata": {
        "colab": {
          "base_uri": "https://localhost:8080/",
          "height": 449
        },
        "id": "qqAvqZ6oRIHD",
        "outputId": "ec2c5803-a126-4011-a673-1cfc4ccf08a3"
      },
      "execution_count": null,
      "outputs": [
        {
          "output_type": "display_data",
          "data": {
            "text/plain": [
              "<Figure size 640x480 with 1 Axes>"
            ],
            "image/png": "[encoded data removed]"
          },
          "metadata": {}
        }
      ]
    },
    {
      "cell_type": "code",
      "source": [
        "plot_roc(mnist_confidence_bnn, kmnist_ensemble_confidence)"
      ],
      "metadata": {
        "colab": {
          "base_uri": "https://localhost:8080/",
          "height": 449
        },
        "id": "DFOhGMFsROzZ",
        "outputId": "61bdb29d-dd07-4a27-ffdf-ed0891ff4a12"
      },
      "execution_count": null,
      "outputs": [
        {
          "output_type": "display_data",
          "data": {
            "text/plain": [
              "<Figure size 640x480 with 1 Axes>"
            ],
            "image/png": "[encoded data removed]"
          },
          "metadata": {}
        }
      ]
    }
  ],
  "metadata": {
    "colab": {
      "provenance": []
    },
    "kernelspec": {
      "display_name": "Python 3",
      "name": "python3"
    },
    "language_info": {
      "name": "python"
    }
  },
  "nbformat": 4,
  "nbformat_minor": 0
}